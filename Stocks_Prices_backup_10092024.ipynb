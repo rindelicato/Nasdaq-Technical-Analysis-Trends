{
 "cells": [
  {
   "cell_type": "markdown",
   "metadata": {},
   "source": [
    "# NASDAQ Technical Analysis & Trends\n",
    "Hypothesis<br>\n",
    "which days are bullish and bearish?<br>\n",
    "which months are bullish and bearish?<br> "
   ]
  },
  {
   "cell_type": "markdown",
   "metadata": {},
   "source": [
    "get nasdaque historical prices<br> \n",
    "store it in a database as we plan to add new features<br> \n",
    "retrieve from database and create new dataset<BR>\n",
    "define new features such as day & month that will be used for seasonality <br> \n",
    "introduce moving averages <br> \n",
    "add some visizuliations<br> \n",
    "use Github<br> \n",
    "\n",
    "\n"
   ]
  },
  {
   "cell_type": "code",
   "execution_count": 16,
   "metadata": {},
   "outputs": [],
   "source": [
    "import psycopg2\n",
    "from psycopg2 import sql\n",
    "import yfinance as yf\n",
    "import pandas as pd\n",
    "import pandas_ta as ta\n",
    "import numpy as np\n",
    "import matplotlib.pyplot as plt\n",
    "import os"
   ]
  },
  {
   "cell_type": "markdown",
   "metadata": {},
   "source": [
    "### Source data from yahoo finance"
   ]
  },
  {
   "cell_type": "code",
   "execution_count": 17,
   "metadata": {},
   "outputs": [
    {
     "name": "stderr",
     "output_type": "stream",
     "text": [
      "[*********************100%%**********************]  1 of 1 completed\n",
      "[*********************100%%**********************]  1 of 1 completed\n"
     ]
    }
   ],
   "source": [
    "# Nasadq composite ticker symbol ^IXIC\n",
    "ticker = '^IXIC'\n",
    "\n",
    "# Fetch data for a ticker\n",
    "df = yf.download(ticker, start='2024-08-01', end='2024-10-10')\n",
    "df_intra = yf.download(ticker, start='2024-08-01', end='2024-10-10', interval='60m')"
   ]
  },
  {
   "cell_type": "code",
   "execution_count": 18,
   "metadata": {},
   "outputs": [
    {
     "data": {
      "text/html": [
       "<div>\n",
       "<style scoped>\n",
       "    .dataframe tbody tr th:only-of-type {\n",
       "        vertical-align: middle;\n",
       "    }\n",
       "\n",
       "    .dataframe tbody tr th {\n",
       "        vertical-align: top;\n",
       "    }\n",
       "\n",
       "    .dataframe thead th {\n",
       "        text-align: right;\n",
       "    }\n",
       "</style>\n",
       "<table border=\"1\" class=\"dataframe\">\n",
       "  <thead>\n",
       "    <tr style=\"text-align: right;\">\n",
       "      <th></th>\n",
       "      <th>Date</th>\n",
       "      <th>Open</th>\n",
       "      <th>High</th>\n",
       "      <th>Low</th>\n",
       "      <th>Close</th>\n",
       "      <th>Adj Close</th>\n",
       "      <th>Volume</th>\n",
       "      <th>Ticker</th>\n",
       "    </tr>\n",
       "  </thead>\n",
       "  <tbody>\n",
       "    <tr>\n",
       "      <th>0</th>\n",
       "      <td>2024-08-01</td>\n",
       "      <td>17647.029297</td>\n",
       "      <td>17791.580078</td>\n",
       "      <td>17051.419922</td>\n",
       "      <td>17194.150391</td>\n",
       "      <td>17194.150391</td>\n",
       "      <td>6664550000</td>\n",
       "      <td>^IXIC</td>\n",
       "    </tr>\n",
       "  </tbody>\n",
       "</table>\n",
       "</div>"
      ],
      "text/plain": [
       "        Date          Open          High           Low         Close  \\\n",
       "0 2024-08-01  17647.029297  17791.580078  17051.419922  17194.150391   \n",
       "\n",
       "      Adj Close      Volume Ticker  \n",
       "0  17194.150391  6664550000  ^IXIC  "
      ]
     },
     "execution_count": 18,
     "metadata": {},
     "output_type": "execute_result"
    }
   ],
   "source": [
    "df.reset_index(inplace=True)\n",
    "df['Ticker'] = ticker\n",
    "df.head(1)"
   ]
  },
  {
   "cell_type": "code",
   "execution_count": 19,
   "metadata": {},
   "outputs": [],
   "source": [
    "key = os.getenv('CRED')"
   ]
  },
  {
   "cell_type": "markdown",
   "metadata": {},
   "source": [
    "### Connecting to PostgresSQL and loading into a dataframe called df_sql"
   ]
  },
  {
   "cell_type": "code",
   "execution_count": 20,
   "metadata": {},
   "outputs": [],
   "source": [
    "# psycopg2 is a PostgreSQL database adapter for Python. It allows Python programs to interact with PostgreSQL databases.\n",
    "# creating a varible to connect with the database.\n",
    "\n",
    "conn = psycopg2.connect(\n",
    "    dbname=\"Stocks\",\n",
    "    user=\"postgres\",\n",
    "    password=key,\n",
    "    host=\"localhost\",\n",
    "    port=\"5432\"\n",
    ")\n",
    "# Enable autocommit\n",
    "conn.autocommit = True\n",
    "cur = conn.cursor()    # The cursor allows python to interact with Postgres SQL database."
   ]
  },
  {
   "cell_type": "code",
   "execution_count": 21,
   "metadata": {},
   "outputs": [
    {
     "name": "stderr",
     "output_type": "stream",
     "text": [
      "C:\\Users\\rinde\\AppData\\Local\\Temp\\ipykernel_1300\\3161469733.py:3: UserWarning: pandas only supports SQLAlchemy connectable (engine/connection) or database string URI or sqlite3 DBAPI2 connection. Other DBAPI2 objects are not tested. Please consider using SQLAlchemy.\n",
      "  df_sql = pd.read_sql(query, conn)\n"
     ]
    }
   ],
   "source": [
    "# Query the data from the \"stocks\" table and load it into a DataFrame\n",
    "query = 'SELECT * FROM stock_symbol'\n",
    "df_sql = pd.read_sql(query, conn)\n",
    "\n"
   ]
  },
  {
   "cell_type": "code",
   "execution_count": 22,
   "metadata": {},
   "outputs": [
    {
     "data": {
      "text/html": [
       "<div>\n",
       "<style scoped>\n",
       "    .dataframe tbody tr th:only-of-type {\n",
       "        vertical-align: middle;\n",
       "    }\n",
       "\n",
       "    .dataframe tbody tr th {\n",
       "        vertical-align: top;\n",
       "    }\n",
       "\n",
       "    .dataframe thead th {\n",
       "        text-align: right;\n",
       "    }\n",
       "</style>\n",
       "<table border=\"1\" class=\"dataframe\">\n",
       "  <thead>\n",
       "    <tr style=\"text-align: right;\">\n",
       "      <th></th>\n",
       "      <th>id</th>\n",
       "      <th>open</th>\n",
       "      <th>high</th>\n",
       "      <th>low</th>\n",
       "      <th>close</th>\n",
       "      <th>adj_close</th>\n",
       "      <th>volume</th>\n",
       "      <th>ticker</th>\n",
       "      <th>date</th>\n",
       "      <th>day</th>\n",
       "      <th>month</th>\n",
       "      <th>updown_day</th>\n",
       "      <th>fastema</th>\n",
       "      <th>slowema</th>\n",
       "      <th>signal</th>\n",
       "    </tr>\n",
       "  </thead>\n",
       "  <tbody>\n",
       "    <tr>\n",
       "      <th>0</th>\n",
       "      <td>10081</td>\n",
       "      <td>17647.03</td>\n",
       "      <td>17791.58</td>\n",
       "      <td>17051.42</td>\n",
       "      <td>17194.15</td>\n",
       "      <td>17194.15</td>\n",
       "      <td>6.664550e+09</td>\n",
       "      <td>^IXIC</td>\n",
       "      <td>2024-08-01</td>\n",
       "      <td>Thursday</td>\n",
       "      <td>August</td>\n",
       "      <td>NaN</td>\n",
       "      <td>17194.150391</td>\n",
       "      <td>17194.150391</td>\n",
       "      <td>NaN</td>\n",
       "    </tr>\n",
       "  </tbody>\n",
       "</table>\n",
       "</div>"
      ],
      "text/plain": [
       "      id      open      high       low     close  adj_close        volume  \\\n",
       "0  10081  17647.03  17791.58  17051.42  17194.15   17194.15  6.664550e+09   \n",
       "\n",
       "  ticker        date       day   month updown_day       fastema       slowema  \\\n",
       "0  ^IXIC  2024-08-01  Thursday  August        NaN  17194.150391  17194.150391   \n",
       "\n",
       "  signal  \n",
       "0    NaN  "
      ]
     },
     "execution_count": 22,
     "metadata": {},
     "output_type": "execute_result"
    }
   ],
   "source": [
    "df_sql.head(1)"
   ]
  },
  {
   "cell_type": "code",
   "execution_count": 23,
   "metadata": {},
   "outputs": [],
   "source": [
    "# cur.execute('''\n",
    "#     SELECT company_info.company, company_info.ticker, stock_symbol.high, stock_symbol.low, stock_symbol.volume\n",
    "#     FROM company_info\n",
    "#     INNER JOIN stock_symbol\n",
    "#     ON company_info.ticker = stock_symbol.ticker;\n",
    "#  ''')\n",
    "\n",
    "# # Fetch all the results\n",
    "# rows = cur.fetchall()\n",
    "\n",
    "# # Print the results\n",
    "# for i in rows:\n",
    "#     print(i)"
   ]
  },
  {
   "cell_type": "code",
   "execution_count": 24,
   "metadata": {},
   "outputs": [],
   "source": [
    "# df.tail()"
   ]
  },
  {
   "cell_type": "code",
   "execution_count": 25,
   "metadata": {},
   "outputs": [],
   "source": [
    "# for _, r in df.iterrows():\n",
    "#     insert_query = '''\n",
    "#         INSERT INTO stock_symbol (open, high, low, close, adj_close, volume, ticker, date)\n",
    "#         VALUES (%s, %s, %s, %s, %s, %s, %s,%s);\n",
    "#         '''\n",
    "#     cur.execute(insert_query, (r['Open'], r['High'], r['Low'], r['Close'], r['Adj Close'], r['Volume'], r['Ticker'], r['Date']))\n",
    "\n",
    "# conn.commit()\n"
   ]
  },
  {
   "cell_type": "code",
   "execution_count": 26,
   "metadata": {},
   "outputs": [],
   "source": [
    "# df = df.reset_index()"
   ]
  },
  {
   "cell_type": "markdown",
   "metadata": {},
   "source": [
    "### Adding new features called day and month, fastema and slowema derived from Date column"
   ]
  },
  {
   "cell_type": "code",
   "execution_count": 27,
   "metadata": {},
   "outputs": [],
   "source": [
    "# Changing Date colum to a date type so we can derive into day and month\n",
    "df['Date'] = pd.to_datetime(df['Date'])\n",
    "\n",
    "# Adding a day column and month column to the dataset\n",
    "df['Day'] = df['Date'].dt.day_name()\n",
    "df['Month'] = df['Date'].dt.month_name()\n",
    "\n",
    "# Adding fastema and slowerema column to the dataset\n",
    "df['Fastema'] = df['Close'].ewm(span=5, adjust=False).mean()\n",
    "df['Slowema'] = df['Close'].ewm(span=7, adjust=False).mean()\n",
    "\n"
   ]
  },
  {
   "cell_type": "markdown",
   "metadata": {},
   "source": [
    "#### Buy and Sell Signal\n"
   ]
  },
  {
   "cell_type": "code",
   "execution_count": 28,
   "metadata": {},
   "outputs": [],
   "source": [
    "def generate_signals(dataset):\n",
    "    buy_signal = (dataset['Fastema'] > dataset['Slowema']) & (dataset['Fastema'].shift(1) < dataset['Slowema'].shift(1))\n",
    "    sell_signal = (dataset['Fastema'] < dataset['Slowema']) & (dataset['Fastema'].shift(1) > dataset['Slowema'].shift(1))\n",
    "\n",
    "    dataset.loc[buy_signal, 'Signal'] = 'Buy'\n",
    "    dataset.loc[sell_signal, 'Signal'] = 'Sell'\n",
    "\n",
    "    return dataset\n",
    "\n",
    "my_df = generate_signals(df)\n"
   ]
  },
  {
   "cell_type": "markdown",
   "metadata": {},
   "source": [
    "### Seasonality features based on day "
   ]
  },
  {
   "cell_type": "code",
   "execution_count": 29,
   "metadata": {},
   "outputs": [],
   "source": [
    "# Calculate up and down days\n",
    "up_day = (df['Close'] > df['Close'].shift(1))\n",
    "down_day = (df['Close'] < df['Close'].shift(1))\n",
    "unch = (df['Close'] == df['Close'].shift(1))"
   ]
  },
  {
   "cell_type": "code",
   "execution_count": 30,
   "metadata": {},
   "outputs": [
    {
     "data": {
      "text/html": [
       "<div>\n",
       "<style scoped>\n",
       "    .dataframe tbody tr th:only-of-type {\n",
       "        vertical-align: middle;\n",
       "    }\n",
       "\n",
       "    .dataframe tbody tr th {\n",
       "        vertical-align: top;\n",
       "    }\n",
       "\n",
       "    .dataframe thead th {\n",
       "        text-align: right;\n",
       "    }\n",
       "</style>\n",
       "<table border=\"1\" class=\"dataframe\">\n",
       "  <thead>\n",
       "    <tr style=\"text-align: right;\">\n",
       "      <th></th>\n",
       "      <th>Date</th>\n",
       "      <th>Open</th>\n",
       "      <th>High</th>\n",
       "      <th>Low</th>\n",
       "      <th>Close</th>\n",
       "      <th>Adj Close</th>\n",
       "      <th>Volume</th>\n",
       "      <th>Ticker</th>\n",
       "      <th>Day</th>\n",
       "      <th>Month</th>\n",
       "      <th>Fastema</th>\n",
       "      <th>Slowema</th>\n",
       "      <th>Signal</th>\n",
       "      <th>UpDown_Day</th>\n",
       "    </tr>\n",
       "  </thead>\n",
       "  <tbody>\n",
       "    <tr>\n",
       "      <th>0</th>\n",
       "      <td>2024-08-01</td>\n",
       "      <td>17647.029297</td>\n",
       "      <td>17791.580078</td>\n",
       "      <td>17051.419922</td>\n",
       "      <td>17194.150391</td>\n",
       "      <td>17194.150391</td>\n",
       "      <td>6664550000</td>\n",
       "      <td>^IXIC</td>\n",
       "      <td>Thursday</td>\n",
       "      <td>August</td>\n",
       "      <td>17194.150391</td>\n",
       "      <td>17194.150391</td>\n",
       "      <td>NaN</td>\n",
       "      <td>NaN</td>\n",
       "    </tr>\n",
       "    <tr>\n",
       "      <th>1</th>\n",
       "      <td>2024-08-02</td>\n",
       "      <td>16780.449219</td>\n",
       "      <td>16920.630859</td>\n",
       "      <td>16582.789062</td>\n",
       "      <td>16776.160156</td>\n",
       "      <td>16776.160156</td>\n",
       "      <td>6313870000</td>\n",
       "      <td>^IXIC</td>\n",
       "      <td>Friday</td>\n",
       "      <td>August</td>\n",
       "      <td>17054.820312</td>\n",
       "      <td>17089.652832</td>\n",
       "      <td>NaN</td>\n",
       "      <td>Down</td>\n",
       "    </tr>\n",
       "    <tr>\n",
       "      <th>2</th>\n",
       "      <td>2024-08-05</td>\n",
       "      <td>15712.530273</td>\n",
       "      <td>16453.460938</td>\n",
       "      <td>15708.540039</td>\n",
       "      <td>16200.080078</td>\n",
       "      <td>16200.080078</td>\n",
       "      <td>6852190000</td>\n",
       "      <td>^IXIC</td>\n",
       "      <td>Monday</td>\n",
       "      <td>August</td>\n",
       "      <td>16769.906901</td>\n",
       "      <td>16867.259644</td>\n",
       "      <td>NaN</td>\n",
       "      <td>Down</td>\n",
       "    </tr>\n",
       "    <tr>\n",
       "      <th>3</th>\n",
       "      <td>2024-08-06</td>\n",
       "      <td>16261.360352</td>\n",
       "      <td>16620.310547</td>\n",
       "      <td>16137.650391</td>\n",
       "      <td>16366.849609</td>\n",
       "      <td>16366.849609</td>\n",
       "      <td>5908930000</td>\n",
       "      <td>^IXIC</td>\n",
       "      <td>Tuesday</td>\n",
       "      <td>August</td>\n",
       "      <td>16635.554470</td>\n",
       "      <td>16742.157135</td>\n",
       "      <td>NaN</td>\n",
       "      <td>Up</td>\n",
       "    </tr>\n",
       "    <tr>\n",
       "      <th>4</th>\n",
       "      <td>2024-08-07</td>\n",
       "      <td>16622.310547</td>\n",
       "      <td>16709.810547</td>\n",
       "      <td>16179.530273</td>\n",
       "      <td>16195.809570</td>\n",
       "      <td>16195.809570</td>\n",
       "      <td>5913620000</td>\n",
       "      <td>^IXIC</td>\n",
       "      <td>Wednesday</td>\n",
       "      <td>August</td>\n",
       "      <td>16488.972837</td>\n",
       "      <td>16605.570244</td>\n",
       "      <td>NaN</td>\n",
       "      <td>Down</td>\n",
       "    </tr>\n",
       "  </tbody>\n",
       "</table>\n",
       "</div>"
      ],
      "text/plain": [
       "        Date          Open          High           Low         Close  \\\n",
       "0 2024-08-01  17647.029297  17791.580078  17051.419922  17194.150391   \n",
       "1 2024-08-02  16780.449219  16920.630859  16582.789062  16776.160156   \n",
       "2 2024-08-05  15712.530273  16453.460938  15708.540039  16200.080078   \n",
       "3 2024-08-06  16261.360352  16620.310547  16137.650391  16366.849609   \n",
       "4 2024-08-07  16622.310547  16709.810547  16179.530273  16195.809570   \n",
       "\n",
       "      Adj Close      Volume Ticker        Day   Month       Fastema  \\\n",
       "0  17194.150391  6664550000  ^IXIC   Thursday  August  17194.150391   \n",
       "1  16776.160156  6313870000  ^IXIC     Friday  August  17054.820312   \n",
       "2  16200.080078  6852190000  ^IXIC     Monday  August  16769.906901   \n",
       "3  16366.849609  5908930000  ^IXIC    Tuesday  August  16635.554470   \n",
       "4  16195.809570  5913620000  ^IXIC  Wednesday  August  16488.972837   \n",
       "\n",
       "        Slowema Signal UpDown_Day  \n",
       "0  17194.150391    NaN        NaN  \n",
       "1  17089.652832    NaN       Down  \n",
       "2  16867.259644    NaN       Down  \n",
       "3  16742.157135    NaN         Up  \n",
       "4  16605.570244    NaN       Down  "
      ]
     },
     "execution_count": 30,
     "metadata": {},
     "output_type": "execute_result"
    }
   ],
   "source": [
    "# Adding new features to show Up, Down and Unchanged days\n",
    "df.loc[up_day, 'UpDown_Day'] = \"Up\"\n",
    "df.loc[down_day, 'UpDown_Day'] = \"Down\"\n",
    "df.loc[unch, 'UpDown_Day'] = \"Unchanged\"\n",
    "df.head(5)"
   ]
  },
  {
   "cell_type": "code",
   "execution_count": 31,
   "metadata": {},
   "outputs": [
    {
     "data": {
      "text/html": [
       "<div>\n",
       "<style scoped>\n",
       "    .dataframe tbody tr th:only-of-type {\n",
       "        vertical-align: middle;\n",
       "    }\n",
       "\n",
       "    .dataframe tbody tr th {\n",
       "        vertical-align: top;\n",
       "    }\n",
       "\n",
       "    .dataframe thead th {\n",
       "        text-align: right;\n",
       "    }\n",
       "</style>\n",
       "<table border=\"1\" class=\"dataframe\">\n",
       "  <thead>\n",
       "    <tr style=\"text-align: right;\">\n",
       "      <th></th>\n",
       "      <th>Date</th>\n",
       "      <th>Open</th>\n",
       "      <th>High</th>\n",
       "      <th>Low</th>\n",
       "      <th>Close</th>\n",
       "      <th>Adj Close</th>\n",
       "      <th>Volume</th>\n",
       "      <th>Ticker</th>\n",
       "      <th>Day</th>\n",
       "      <th>Month</th>\n",
       "      <th>Fastema</th>\n",
       "      <th>Slowema</th>\n",
       "      <th>Signal</th>\n",
       "      <th>UpDown_Day</th>\n",
       "    </tr>\n",
       "  </thead>\n",
       "  <tbody>\n",
       "    <tr>\n",
       "      <th>48</th>\n",
       "      <td>2024-10-09</td>\n",
       "      <td>18179.220703</td>\n",
       "      <td>18302.050781</td>\n",
       "      <td>18133.019531</td>\n",
       "      <td>18291.619141</td>\n",
       "      <td>18291.619141</td>\n",
       "      <td>5228670000</td>\n",
       "      <td>^IXIC</td>\n",
       "      <td>Wednesday</td>\n",
       "      <td>October</td>\n",
       "      <td>18135.393116</td>\n",
       "      <td>18103.854814</td>\n",
       "      <td>NaN</td>\n",
       "      <td>Up</td>\n",
       "    </tr>\n",
       "  </tbody>\n",
       "</table>\n",
       "</div>"
      ],
      "text/plain": [
       "         Date          Open          High           Low         Close  \\\n",
       "48 2024-10-09  18179.220703  18302.050781  18133.019531  18291.619141   \n",
       "\n",
       "       Adj Close      Volume Ticker        Day    Month       Fastema  \\\n",
       "48  18291.619141  5228670000  ^IXIC  Wednesday  October  18135.393116   \n",
       "\n",
       "         Slowema Signal UpDown_Day  \n",
       "48  18103.854814    NaN         Up  "
      ]
     },
     "execution_count": 31,
     "metadata": {},
     "output_type": "execute_result"
    }
   ],
   "source": [
    "df.tail(1)"
   ]
  },
  {
   "cell_type": "markdown",
   "metadata": {},
   "source": [
    "### Adding new features columns, day, month & updown_day, into the postgres table stock_symbol.\n"
   ]
  },
  {
   "cell_type": "code",
   "execution_count": 32,
   "metadata": {},
   "outputs": [],
   "source": [
    "columns_query = '''\n",
    "    SELECT column_name\n",
    "    FROM information_schema.columns\n",
    "    WHERE table_name = 'stock_symbol';\n",
    "'''\n",
    "cur.execute(columns_query)\n",
    "columns = cur.fetchall()"
   ]
  },
  {
   "cell_type": "code",
   "execution_count": 33,
   "metadata": {},
   "outputs": [
    {
     "name": "stdout",
     "output_type": "stream",
     "text": [
      "[('id',), ('open',), ('high',), ('low',), ('close',), ('adj_close',), ('volume',), ('ticker',), ('date',), ('day',), ('month',), ('updown_day',), ('fastema',), ('slowema',), ('signal',)]\n"
     ]
    }
   ],
   "source": [
    "print(columns)"
   ]
  },
  {
   "cell_type": "code",
   "execution_count": 34,
   "metadata": {},
   "outputs": [],
   "source": [
    "if ('day',) not in columns:\n",
    "    cur.execute(\n",
    "        '''\n",
    "        ALTER TABLE \"stock_symbol\"\n",
    "        ADD COLUMN \"day\" TEXT;\n",
    "        '''\n",
    "        )"
   ]
  },
  {
   "cell_type": "code",
   "execution_count": 35,
   "metadata": {},
   "outputs": [],
   "source": [
    "if('month',) not in columns:\n",
    "    cur.execute(\n",
    "     '''\n",
    "     ALTER TABLE \"stock_symbol\"\n",
    "     ADD COLUMN \"month\" TEXT;\n",
    "    '''\n",
    "    )"
   ]
  },
  {
   "cell_type": "code",
   "execution_count": 36,
   "metadata": {},
   "outputs": [],
   "source": [
    "if('updown_day',) not in columns:\n",
    "    cur.execute(\n",
    "     '''\n",
    "     ALTER TABLE \"stock_symbol\"\n",
    "     ADD COLUMN \"updown_day\" TEXT;\n",
    "    '''\n",
    "    )"
   ]
  },
  {
   "cell_type": "code",
   "execution_count": 37,
   "metadata": {},
   "outputs": [],
   "source": [
    "if('fastema',) not in columns:\n",
    "    cur.execute(\n",
    "    '''\n",
    "    ALTER TABLE \"stock_symbol\"\n",
    "    ADD COLUMN \"fastema\" FLOAT;\n",
    "    '''\n",
    "    )"
   ]
  },
  {
   "cell_type": "code",
   "execution_count": 38,
   "metadata": {},
   "outputs": [],
   "source": [
    "if('slowema',) not in columns:\n",
    "    cur.execute(\n",
    "    '''\n",
    "    ALTER TABLE \"stock_symbol\"\n",
    "    ADD COLUMN \"slowema\" FLOAT;\n",
    "    '''\n",
    "    )"
   ]
  },
  {
   "cell_type": "code",
   "execution_count": 39,
   "metadata": {},
   "outputs": [],
   "source": [
    "if('signal',) not in columns:\n",
    "    cur.execute(\n",
    "     '''\n",
    "     ALTER TABLE \"stock_symbol\"\n",
    "     ADD COLUMN \"signal\" TEXT;\n",
    "     '''\n",
    "    )"
   ]
  },
  {
   "cell_type": "markdown",
   "metadata": {},
   "source": [
    "### Adding data from df to postgresSQL along with new features"
   ]
  },
  {
   "cell_type": "code",
   "execution_count": 40,
   "metadata": {},
   "outputs": [],
   "source": [
    "# Deleting all data from table so we can upload fresh data/\n",
    "cur.execute('''DELETE FROM stock_symbol''')"
   ]
  },
  {
   "cell_type": "code",
   "execution_count": 41,
   "metadata": {},
   "outputs": [],
   "source": [
    "# # Iterating through the rows and inserting into table\n",
    "# for _, r in df.iterrows():\n",
    "#     insert_query = '''\n",
    "#         INSERT INTO stock_symbol (open, high, low, close, adj_close, volume, ticker, date, day, month, updown_day, fastema, slowema, signal)\n",
    "#         VALUES (%s, %s, %s, %s, %s, %s, %s, %s, %s, %s, %s, %s, %s, %s);\n",
    "#         '''\n",
    "#     # cur.execute(insert_query, (r['Open'], r['High'], r['Low'], r['Close'], r['Adj Close'], r['Volume'], r['Ticker'], r['Date'],  r['Day'], r['Month'], r['UpDown_Day'], r['Fastema']))\n",
    "#     cur.execute(insert_query, (r['Open'], r['High'], r['Low'], r['Close'], r['Adj Close'], r['Volume'], r['Ticker'], r['Date'], r['Day'], r['Month'], r['UpDown_Day'], r['Fastema'], r['Slowema'], r['Signal']))\n",
    "# conn.commit()\n",
    "\n",
    "df = generate_signals(df)\n",
    "\n",
    "# Iterating through the rows and inserting into the table\n",
    "for _, r in df.iterrows():\n",
    "    insert_query = '''\n",
    "        INSERT INTO stock_symbol (open, high, low, close, adj_close, volume, ticker, date, day, month, updown_day, fastema, slowema, signal)\n",
    "        VALUES (%s, %s, %s, %s, %s, %s, %s, %s, %s, %s, %s, %s, %s, %s);\n",
    "    '''\n",
    "    cur.execute(insert_query, (r['Open'], r['High'], r['Low'], r['Close'], r['Adj Close'], r['Volume'], r['Ticker'], r['Date'],\n",
    "                               r['Day'], r['Month'], r['UpDown_Day'], r['Fastema'], r['Slowema'], r['Signal']))\n",
    "conn.commit()"
   ]
  },
  {
   "cell_type": "code",
   "execution_count": 42,
   "metadata": {},
   "outputs": [
    {
     "name": "stderr",
     "output_type": "stream",
     "text": [
      "C:\\Users\\rinde\\AppData\\Local\\Temp\\ipykernel_1300\\3908707936.py:3: UserWarning: pandas only supports SQLAlchemy connectable (engine/connection) or database string URI or sqlite3 DBAPI2 connection. Other DBAPI2 objects are not tested. Please consider using SQLAlchemy.\n",
      "  df_sql = pd.read_sql(query, conn)\n"
     ]
    },
    {
     "data": {
      "text/html": [
       "<div>\n",
       "<style scoped>\n",
       "    .dataframe tbody tr th:only-of-type {\n",
       "        vertical-align: middle;\n",
       "    }\n",
       "\n",
       "    .dataframe tbody tr th {\n",
       "        vertical-align: top;\n",
       "    }\n",
       "\n",
       "    .dataframe thead th {\n",
       "        text-align: right;\n",
       "    }\n",
       "</style>\n",
       "<table border=\"1\" class=\"dataframe\">\n",
       "  <thead>\n",
       "    <tr style=\"text-align: right;\">\n",
       "      <th></th>\n",
       "      <th>id</th>\n",
       "      <th>open</th>\n",
       "      <th>high</th>\n",
       "      <th>low</th>\n",
       "      <th>close</th>\n",
       "      <th>adj_close</th>\n",
       "      <th>volume</th>\n",
       "      <th>ticker</th>\n",
       "      <th>date</th>\n",
       "      <th>day</th>\n",
       "      <th>month</th>\n",
       "      <th>updown_day</th>\n",
       "      <th>fastema</th>\n",
       "      <th>slowema</th>\n",
       "      <th>signal</th>\n",
       "    </tr>\n",
       "  </thead>\n",
       "  <tbody>\n",
       "    <tr>\n",
       "      <th>0</th>\n",
       "      <td>10130</td>\n",
       "      <td>17647.03</td>\n",
       "      <td>17791.58</td>\n",
       "      <td>17051.42</td>\n",
       "      <td>17194.15</td>\n",
       "      <td>17194.15</td>\n",
       "      <td>6.664550e+09</td>\n",
       "      <td>^IXIC</td>\n",
       "      <td>2024-08-01</td>\n",
       "      <td>Thursday</td>\n",
       "      <td>August</td>\n",
       "      <td>NaN</td>\n",
       "      <td>17194.150391</td>\n",
       "      <td>17194.150391</td>\n",
       "      <td>NaN</td>\n",
       "    </tr>\n",
       "  </tbody>\n",
       "</table>\n",
       "</div>"
      ],
      "text/plain": [
       "      id      open      high       low     close  adj_close        volume  \\\n",
       "0  10130  17647.03  17791.58  17051.42  17194.15   17194.15  6.664550e+09   \n",
       "\n",
       "  ticker        date       day   month updown_day       fastema       slowema  \\\n",
       "0  ^IXIC  2024-08-01  Thursday  August        NaN  17194.150391  17194.150391   \n",
       "\n",
       "  signal  \n",
       "0    NaN  "
      ]
     },
     "execution_count": 42,
     "metadata": {},
     "output_type": "execute_result"
    }
   ],
   "source": [
    "# Query the data from the \"stocks\" table and load it into a DataFrame\n",
    "query = 'SELECT * FROM stock_symbol'\n",
    "df_sql = pd.read_sql(query, conn)\n",
    "df_sql.head(1)"
   ]
  },
  {
   "cell_type": "code",
   "execution_count": 43,
   "metadata": {},
   "outputs": [
    {
     "data": {
      "text/html": [
       "<div>\n",
       "<style scoped>\n",
       "    .dataframe tbody tr th:only-of-type {\n",
       "        vertical-align: middle;\n",
       "    }\n",
       "\n",
       "    .dataframe tbody tr th {\n",
       "        vertical-align: top;\n",
       "    }\n",
       "\n",
       "    .dataframe thead th {\n",
       "        text-align: right;\n",
       "    }\n",
       "</style>\n",
       "<table border=\"1\" class=\"dataframe\">\n",
       "  <thead>\n",
       "    <tr style=\"text-align: right;\">\n",
       "      <th></th>\n",
       "      <th>id</th>\n",
       "      <th>open</th>\n",
       "      <th>high</th>\n",
       "      <th>low</th>\n",
       "      <th>close</th>\n",
       "      <th>adj_close</th>\n",
       "      <th>volume</th>\n",
       "      <th>ticker</th>\n",
       "      <th>date</th>\n",
       "      <th>day</th>\n",
       "      <th>month</th>\n",
       "      <th>updown_day</th>\n",
       "      <th>fastema</th>\n",
       "      <th>slowema</th>\n",
       "      <th>signal</th>\n",
       "    </tr>\n",
       "  </thead>\n",
       "  <tbody>\n",
       "    <tr>\n",
       "      <th>0</th>\n",
       "      <td>10130</td>\n",
       "      <td>17647.03</td>\n",
       "      <td>17791.58</td>\n",
       "      <td>17051.42</td>\n",
       "      <td>17194.15</td>\n",
       "      <td>17194.15</td>\n",
       "      <td>6.664550e+09</td>\n",
       "      <td>^IXIC</td>\n",
       "      <td>2024-08-01</td>\n",
       "      <td>Thursday</td>\n",
       "      <td>August</td>\n",
       "      <td>NaN</td>\n",
       "      <td>17194.150391</td>\n",
       "      <td>17194.150391</td>\n",
       "      <td>NaN</td>\n",
       "    </tr>\n",
       "    <tr>\n",
       "      <th>1</th>\n",
       "      <td>10131</td>\n",
       "      <td>16780.45</td>\n",
       "      <td>16920.63</td>\n",
       "      <td>16582.79</td>\n",
       "      <td>16776.16</td>\n",
       "      <td>16776.16</td>\n",
       "      <td>6.313870e+09</td>\n",
       "      <td>^IXIC</td>\n",
       "      <td>2024-08-02</td>\n",
       "      <td>Friday</td>\n",
       "      <td>August</td>\n",
       "      <td>Down</td>\n",
       "      <td>17054.820312</td>\n",
       "      <td>17089.652832</td>\n",
       "      <td>NaN</td>\n",
       "    </tr>\n",
       "    <tr>\n",
       "      <th>2</th>\n",
       "      <td>10132</td>\n",
       "      <td>15712.53</td>\n",
       "      <td>16453.46</td>\n",
       "      <td>15708.54</td>\n",
       "      <td>16200.08</td>\n",
       "      <td>16200.08</td>\n",
       "      <td>6.852190e+09</td>\n",
       "      <td>^IXIC</td>\n",
       "      <td>2024-08-05</td>\n",
       "      <td>Monday</td>\n",
       "      <td>August</td>\n",
       "      <td>Down</td>\n",
       "      <td>16769.906901</td>\n",
       "      <td>16867.259644</td>\n",
       "      <td>NaN</td>\n",
       "    </tr>\n",
       "    <tr>\n",
       "      <th>3</th>\n",
       "      <td>10133</td>\n",
       "      <td>16261.36</td>\n",
       "      <td>16620.31</td>\n",
       "      <td>16137.65</td>\n",
       "      <td>16366.85</td>\n",
       "      <td>16366.85</td>\n",
       "      <td>5.908930e+09</td>\n",
       "      <td>^IXIC</td>\n",
       "      <td>2024-08-06</td>\n",
       "      <td>Tuesday</td>\n",
       "      <td>August</td>\n",
       "      <td>Up</td>\n",
       "      <td>16635.554470</td>\n",
       "      <td>16742.157135</td>\n",
       "      <td>NaN</td>\n",
       "    </tr>\n",
       "    <tr>\n",
       "      <th>4</th>\n",
       "      <td>10134</td>\n",
       "      <td>16622.31</td>\n",
       "      <td>16709.81</td>\n",
       "      <td>16179.53</td>\n",
       "      <td>16195.81</td>\n",
       "      <td>16195.81</td>\n",
       "      <td>5.913620e+09</td>\n",
       "      <td>^IXIC</td>\n",
       "      <td>2024-08-07</td>\n",
       "      <td>Wednesday</td>\n",
       "      <td>August</td>\n",
       "      <td>Down</td>\n",
       "      <td>16488.972837</td>\n",
       "      <td>16605.570244</td>\n",
       "      <td>NaN</td>\n",
       "    </tr>\n",
       "    <tr>\n",
       "      <th>5</th>\n",
       "      <td>10135</td>\n",
       "      <td>16408.27</td>\n",
       "      <td>16694.25</td>\n",
       "      <td>16262.93</td>\n",
       "      <td>16660.02</td>\n",
       "      <td>16660.02</td>\n",
       "      <td>5.815880e+09</td>\n",
       "      <td>^IXIC</td>\n",
       "      <td>2024-08-08</td>\n",
       "      <td>Thursday</td>\n",
       "      <td>August</td>\n",
       "      <td>Up</td>\n",
       "      <td>16545.988402</td>\n",
       "      <td>16619.182566</td>\n",
       "      <td>NaN</td>\n",
       "    </tr>\n",
       "    <tr>\n",
       "      <th>6</th>\n",
       "      <td>10136</td>\n",
       "      <td>16636.52</td>\n",
       "      <td>16789.22</td>\n",
       "      <td>16574.57</td>\n",
       "      <td>16745.30</td>\n",
       "      <td>16745.30</td>\n",
       "      <td>5.783410e+09</td>\n",
       "      <td>^IXIC</td>\n",
       "      <td>2024-08-09</td>\n",
       "      <td>Friday</td>\n",
       "      <td>August</td>\n",
       "      <td>Up</td>\n",
       "      <td>16612.425862</td>\n",
       "      <td>16650.712120</td>\n",
       "      <td>NaN</td>\n",
       "    </tr>\n",
       "    <tr>\n",
       "      <th>7</th>\n",
       "      <td>10137</td>\n",
       "      <td>16793.64</td>\n",
       "      <td>16895.79</td>\n",
       "      <td>16699.39</td>\n",
       "      <td>16780.61</td>\n",
       "      <td>16780.61</td>\n",
       "      <td>4.890850e+09</td>\n",
       "      <td>^IXIC</td>\n",
       "      <td>2024-08-12</td>\n",
       "      <td>Monday</td>\n",
       "      <td>August</td>\n",
       "      <td>Up</td>\n",
       "      <td>16668.487033</td>\n",
       "      <td>16683.186433</td>\n",
       "      <td>NaN</td>\n",
       "    </tr>\n",
       "  </tbody>\n",
       "</table>\n",
       "</div>"
      ],
      "text/plain": [
       "      id      open      high       low     close  adj_close        volume  \\\n",
       "0  10130  17647.03  17791.58  17051.42  17194.15   17194.15  6.664550e+09   \n",
       "1  10131  16780.45  16920.63  16582.79  16776.16   16776.16  6.313870e+09   \n",
       "2  10132  15712.53  16453.46  15708.54  16200.08   16200.08  6.852190e+09   \n",
       "3  10133  16261.36  16620.31  16137.65  16366.85   16366.85  5.908930e+09   \n",
       "4  10134  16622.31  16709.81  16179.53  16195.81   16195.81  5.913620e+09   \n",
       "5  10135  16408.27  16694.25  16262.93  16660.02   16660.02  5.815880e+09   \n",
       "6  10136  16636.52  16789.22  16574.57  16745.30   16745.30  5.783410e+09   \n",
       "7  10137  16793.64  16895.79  16699.39  16780.61   16780.61  4.890850e+09   \n",
       "\n",
       "  ticker        date        day   month updown_day       fastema  \\\n",
       "0  ^IXIC  2024-08-01   Thursday  August        NaN  17194.150391   \n",
       "1  ^IXIC  2024-08-02     Friday  August       Down  17054.820312   \n",
       "2  ^IXIC  2024-08-05     Monday  August       Down  16769.906901   \n",
       "3  ^IXIC  2024-08-06    Tuesday  August         Up  16635.554470   \n",
       "4  ^IXIC  2024-08-07  Wednesday  August       Down  16488.972837   \n",
       "5  ^IXIC  2024-08-08   Thursday  August         Up  16545.988402   \n",
       "6  ^IXIC  2024-08-09     Friday  August         Up  16612.425862   \n",
       "7  ^IXIC  2024-08-12     Monday  August         Up  16668.487033   \n",
       "\n",
       "        slowema signal  \n",
       "0  17194.150391    NaN  \n",
       "1  17089.652832    NaN  \n",
       "2  16867.259644    NaN  \n",
       "3  16742.157135    NaN  \n",
       "4  16605.570244    NaN  \n",
       "5  16619.182566    NaN  \n",
       "6  16650.712120    NaN  \n",
       "7  16683.186433    NaN  "
      ]
     },
     "execution_count": 43,
     "metadata": {},
     "output_type": "execute_result"
    }
   ],
   "source": [
    "# Show the first few rows\n",
    "df_sql.head(8)"
   ]
  },
  {
   "cell_type": "code",
   "execution_count": 44,
   "metadata": {},
   "outputs": [],
   "source": [
    "# # Export to CSV\n",
    "# df_sql.to_excel(r'C:\\Users\\rinde\\OneDrive\\Desktop\\stocks.xlsx')"
   ]
  },
  {
   "cell_type": "code",
   "execution_count": 45,
   "metadata": {},
   "outputs": [],
   "source": [
    "# create chart with days of the week and the open and close day column"
   ]
  },
  {
   "cell_type": "code",
   "execution_count": 46,
   "metadata": {},
   "outputs": [],
   "source": [
    "cur.close()\n",
    "conn.close()"
   ]
  },
  {
   "cell_type": "code",
   "execution_count": 47,
   "metadata": {},
   "outputs": [],
   "source": [
    "df_clean = df_sql.replace('NaN', 'Down')\n",
    "\n"
   ]
  },
  {
   "cell_type": "markdown",
   "metadata": {},
   "source": [
    " day_order defines the correct order for the days of the workweek from Monday to Friday\n"
   ]
  },
  {
   "cell_type": "code",
   "execution_count": 48,
   "metadata": {},
   "outputs": [],
   "source": [
    "day_order = ['Monday', 'Tuesday', 'Wednesday', 'Thursday', 'Friday']\n",
    "\n",
    "# Convert 'day' column to a categorical variable with the specified order\n",
    "df_clean['day'] = pd.Categorical(df_clean['day'], categories=day_order, ordered=True)"
   ]
  },
  {
   "cell_type": "code",
   "execution_count": 49,
   "metadata": {},
   "outputs": [
    {
     "data": {
      "text/html": [
       "<div>\n",
       "<style scoped>\n",
       "    .dataframe tbody tr th:only-of-type {\n",
       "        vertical-align: middle;\n",
       "    }\n",
       "\n",
       "    .dataframe tbody tr th {\n",
       "        vertical-align: top;\n",
       "    }\n",
       "\n",
       "    .dataframe thead th {\n",
       "        text-align: right;\n",
       "    }\n",
       "</style>\n",
       "<table border=\"1\" class=\"dataframe\">\n",
       "  <thead>\n",
       "    <tr style=\"text-align: right;\">\n",
       "      <th>updown_day</th>\n",
       "      <th>Down</th>\n",
       "      <th>Up</th>\n",
       "      <th>% Up</th>\n",
       "    </tr>\n",
       "    <tr>\n",
       "      <th>day</th>\n",
       "      <th></th>\n",
       "      <th></th>\n",
       "      <th></th>\n",
       "    </tr>\n",
       "  </thead>\n",
       "  <tbody>\n",
       "    <tr>\n",
       "      <th>Monday</th>\n",
       "      <td>4</td>\n",
       "      <td>5</td>\n",
       "      <td>55.555556</td>\n",
       "    </tr>\n",
       "    <tr>\n",
       "      <th>Tuesday</th>\n",
       "      <td>3</td>\n",
       "      <td>7</td>\n",
       "      <td>70.000000</td>\n",
       "    </tr>\n",
       "    <tr>\n",
       "      <th>Wednesday</th>\n",
       "      <td>4</td>\n",
       "      <td>6</td>\n",
       "      <td>60.000000</td>\n",
       "    </tr>\n",
       "    <tr>\n",
       "      <th>Thursday</th>\n",
       "      <td>4</td>\n",
       "      <td>6</td>\n",
       "      <td>60.000000</td>\n",
       "    </tr>\n",
       "    <tr>\n",
       "      <th>Friday</th>\n",
       "      <td>4</td>\n",
       "      <td>6</td>\n",
       "      <td>60.000000</td>\n",
       "    </tr>\n",
       "  </tbody>\n",
       "</table>\n",
       "</div>"
      ],
      "text/plain": [
       "updown_day  Down  Up       % Up\n",
       "day                            \n",
       "Monday         4   5  55.555556\n",
       "Tuesday        3   7  70.000000\n",
       "Wednesday      4   6  60.000000\n",
       "Thursday       4   6  60.000000\n",
       "Friday         4   6  60.000000"
      ]
     },
     "execution_count": 49,
     "metadata": {},
     "output_type": "execute_result"
    }
   ],
   "source": [
    "# create a pivote table and assign it to a new dataframe df_pvtDay\n",
    "df_pvtDay = pd.pivot_table(df_clean, index='day', columns='updown_day', aggfunc='size', fill_value=0)\n",
    "\n",
    "# Calculate the total sales for each city and add it as a new column\n",
    "df_pvtDay['% Up'] = (df_pvtDay['Up'] / df_pvtDay.sum(axis=1)) * 100\n",
    "\n",
    "df_pvtDay.head()\n"
   ]
  },
  {
   "cell_type": "markdown",
   "metadata": {},
   "source": [
    "month column using pandas DataFrame (df_clean) into a categorical variable with an explicitly defined chronological order (January to December)"
   ]
  },
  {
   "cell_type": "code",
   "execution_count": 50,
   "metadata": {},
   "outputs": [],
   "source": [
    "month_order = ['January', 'February', 'March', 'April', 'May', 'June',\n",
    "               'July', 'August', 'September', 'October', 'November', 'December']\n",
    "\n",
    "# Convert 'month' column in df_clean to a categorical variable with the correct month order\n",
    "df_clean['month'] = pd.Categorical(df_clean['month'], categories=month_order, ordered=True)"
   ]
  },
  {
   "cell_type": "markdown",
   "metadata": {},
   "source": [
    " pivot table (df_pvtMonth) from the df_clean DataFrame, summarizing the count of 'Up' and 'Down' days for each month. <br>\n",
    " It then adds a new column % Up, which calculates the percentage of 'Up' days for each month."
   ]
  },
  {
   "cell_type": "code",
   "execution_count": 51,
   "metadata": {},
   "outputs": [
    {
     "data": {
      "text/html": [
       "<div>\n",
       "<style scoped>\n",
       "    .dataframe tbody tr th:only-of-type {\n",
       "        vertical-align: middle;\n",
       "    }\n",
       "\n",
       "    .dataframe tbody tr th {\n",
       "        vertical-align: top;\n",
       "    }\n",
       "\n",
       "    .dataframe thead th {\n",
       "        text-align: right;\n",
       "    }\n",
       "</style>\n",
       "<table border=\"1\" class=\"dataframe\">\n",
       "  <thead>\n",
       "    <tr style=\"text-align: right;\">\n",
       "      <th>updown_day</th>\n",
       "      <th>Down</th>\n",
       "      <th>Up</th>\n",
       "      <th>% Up</th>\n",
       "    </tr>\n",
       "    <tr>\n",
       "      <th>month</th>\n",
       "      <th></th>\n",
       "      <th></th>\n",
       "      <th></th>\n",
       "    </tr>\n",
       "  </thead>\n",
       "  <tbody>\n",
       "    <tr>\n",
       "      <th>January</th>\n",
       "      <td>0</td>\n",
       "      <td>0</td>\n",
       "      <td>NaN</td>\n",
       "    </tr>\n",
       "    <tr>\n",
       "      <th>February</th>\n",
       "      <td>0</td>\n",
       "      <td>0</td>\n",
       "      <td>NaN</td>\n",
       "    </tr>\n",
       "    <tr>\n",
       "      <th>March</th>\n",
       "      <td>0</td>\n",
       "      <td>0</td>\n",
       "      <td>NaN</td>\n",
       "    </tr>\n",
       "    <tr>\n",
       "      <th>April</th>\n",
       "      <td>0</td>\n",
       "      <td>0</td>\n",
       "      <td>NaN</td>\n",
       "    </tr>\n",
       "    <tr>\n",
       "      <th>May</th>\n",
       "      <td>0</td>\n",
       "      <td>0</td>\n",
       "      <td>NaN</td>\n",
       "    </tr>\n",
       "  </tbody>\n",
       "</table>\n",
       "</div>"
      ],
      "text/plain": [
       "updown_day  Down  Up  % Up\n",
       "month                     \n",
       "January        0   0   NaN\n",
       "February       0   0   NaN\n",
       "March          0   0   NaN\n",
       "April          0   0   NaN\n",
       "May            0   0   NaN"
      ]
     },
     "execution_count": 51,
     "metadata": {},
     "output_type": "execute_result"
    }
   ],
   "source": [
    "# create pivote table and assign it to a new dataframe df_pvtMonth\n",
    "df_pvtMonth = pd.pivot_table(df_clean, index='month', columns='updown_day', aggfunc='size', fill_value=0)\n",
    "\n",
    "# Calculate the total sales for each city and add it as a new column\n",
    "df_pvtMonth['% Up'] = (df_pvtMonth['Up'] / df_pvtMonth.sum(axis=1)) * 100\n",
    "df_pvtMonth.head()\n"
   ]
  },
  {
   "cell_type": "markdown",
   "metadata": {},
   "source": [
    "Cluster bar chart that shows up and down days for determing when to buy and sell stocks. "
   ]
  },
  {
   "cell_type": "code",
   "execution_count": 52,
   "metadata": {},
   "outputs": [
    {
     "data": {
      "image/png": "[encoded data removed]",
      "text/plain": [
       "<Figure size 1000x600 with 1 Axes>"
      ]
     },
     "metadata": {},
     "output_type": "display_data"
    }
   ],
   "source": [
    "# Create cluster bar chart\n",
    "\n",
    "# Drop the '% Up' column as we are interested in plotting the counts for 'Up' and 'Down'\n",
    "df_pvtDay_plot = df_pvtDay.drop(columns='% Up')\n",
    "\n",
    "# Plotting the pivot table as a clustered bar chart\n",
    "df_pvtDay_plot.plot(kind='bar', figsize=(10, 6), width=0.8, colormap='Set2')\n",
    "\n",
    "# Adding titles and labels\n",
    "plt.title('Clustered Bar Chart of Up and Down Days')\n",
    "plt.xlabel('Day')\n",
    "plt.ylabel('Count')\n",
    "plt.xticks(rotation=0)  # Keep x-axis labels horizontal for better readability\n",
    "\n",
    "# Show the plot\n",
    "plt.tight_layout()\n",
    "plt.show()"
   ]
  },
  {
   "cell_type": "markdown",
   "metadata": {},
   "source": [
    "Cluster bar chart that shows up and down months for determing when to buy and sell stocks. "
   ]
  },
  {
   "cell_type": "code",
   "execution_count": 53,
   "metadata": {},
   "outputs": [
    {
     "data": {
      "image/png": "[encoded data removed]",
      "text/plain": [
       "<Figure size 1000x600 with 1 Axes>"
      ]
     },
     "metadata": {},
     "output_type": "display_data"
    }
   ],
   "source": [
    "df_pvtMonth_plot = df_pvtMonth.drop(columns='% Up')\n",
    "\n",
    "# Plot the pivot table as a clustered column chart (vertical bars)\n",
    "df_pvtMonth_plot.plot(kind='bar', figsize=(10, 6), width=0.8, colormap='Set2')\n",
    "\n",
    "# Adding titles and labels\n",
    "plt.title('Clustered Column Chart of Up and Down Days by Month')\n",
    "plt.xlabel('Month')\n",
    "plt.ylabel('Count')\n",
    "plt.xticks(rotation=0)  # Keep month labels horizontal for better readability\n",
    "\n",
    "# Show the plot\n",
    "plt.tight_layout()  # Ensure the layout is nicely spaced\n",
    "plt.show()"
   ]
  },
  {
   "cell_type": "markdown",
   "metadata": {},
   "source": [
    "My Line Graph showing the buy, sell, and closing price"
   ]
  },
  {
   "cell_type": "code",
   "execution_count": 54,
   "metadata": {},
   "outputs": [
    {
     "data": {
      "image/png": "[encoded data removed]",
      "text/plain": [
       "<Figure size 1600x800 with 1 Axes>"
      ]
     },
     "metadata": {},
     "output_type": "display_data"
    }
   ],
   "source": [
    "buy_signal = df['Signal'] == 'Buy'\n",
    "sell_signal = df['Signal'] == 'Sell'\n",
    "\n",
    "plt.figure(figsize=(16, 8))\n",
    "\n",
    "# Plotting the line graph for 'Close' prices\n",
    "plt.plot(df['Date'], df['Close'], label='Close Price', color='gray')\n",
    "\n",
    "# Highlight buy signals in green\n",
    "plt.scatter(df['Date'][buy_signal], df['Close'][buy_signal], marker='^', s=50, color='green', label='Buy')\n",
    "\n",
    "# Highlight sell signals in red\n",
    "plt.scatter(df['Date'][sell_signal], df['Close'][sell_signal], marker='v', s=50, color='red', label='Sell')\n",
    "\n",
    "# Optional: You can highlight unchanged days in blue if you want\n",
    "# unch = (df['Signal'].isna())  # Example for days with no signal (you can define this based on your logic)\n",
    "# plt.scatter(df['Date'][unch], df['Close'][unch], color='blue', label='Unchanged')\n",
    "\n",
    "# Adding labels and legend\n",
    "plt.xlabel('Date')\n",
    "plt.ylabel('Close Price')\n",
    "plt.title('Stock Price with Buy and Sell Signals')\n",
    "plt.legend()\n",
    "\n",
    "plt.gca().set_facecolor('black')  # Set the background color to black\n",
    "\n",
    "# Show the plot\n",
    "plt.xticks(rotation=45)\n",
    "plt.tight_layout()\n",
    "plt.show()\n",
    "\n",
    "\n",
    "# # Plot the line graph with arrows indicating the direction of crossover\n",
    "# plt.figure(figsize=(16, 8))\n",
    "# plt.plot(df_sql.index, df_sql['close'], label='Close Price', color='gray')\n",
    "# plt.gca().set_facecolor('black')  # Set the background color to black\n",
    "# # Highlight up days in green\n",
    "# plt.scatter(df_sql['date'][buy_signal], df_sql['close'][buy_signal], color='green', label='Buy')"
   ]
  },
  {
   "cell_type": "markdown",
   "metadata": {},
   "source": [
    "The reason I use the 5 day moving average because it covers the whole weekend. It allows me to day trade with stocks, when to buy and sell stocks. <br>\n",
    "The reason I use the 7 day moving average because it allows you to gain insights into future predictions on stock performance. <br>\n",
    "Bullish day is tuesday with the 5 day moving average with wednesday, thursday, and friday following suit <br>\n",
    "Bearish day is monday within 5 day moving average. \n"
   ]
  },
  {
   "cell_type": "markdown",
   "metadata": {},
   "source": [
    "git checkout staging => switch between branches.<BR>\n",
    "git fetch origin => update your local repository with the latest changes from the remote branch<BR>\n",
    "git pull origin staging => Merge the remote staging branch into your local staging branch<BR>\n",
    "git add . => add all changes in the current directory<BR>\n",
    "git push origin staging"
   ]
  }
 ],
 "metadata": {
  "kernelspec": {
   "display_name": "Python 3",
   "language": "python",
   "name": "python3"
  },
  "language_info": {
   "codemirror_mode": {
    "name": "ipython",
    "version": 3
   },
   "file_extension": ".py",
   "mimetype": "text/x-python",
   "name": "python",
   "nbconvert_exporter": "python",
   "pygments_lexer": "ipython3",
   "version": "3.11.9"
  }
 },
 "nbformat": 4,
 "nbformat_minor": 2
}
