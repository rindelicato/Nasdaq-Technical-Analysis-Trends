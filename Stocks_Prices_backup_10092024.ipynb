{
 "cells": [
  {
   "cell_type": "markdown",
   "metadata": {},
   "source": [
    "# NASDAQ Technical Analysis & Trends\n"
   ]
  },
  {
   "cell_type": "markdown",
   "metadata": {},
   "source": [
    "This code extracts historical Nasdaq prices from Yahoo Finance, loads them into PostgreSQL, and enhances the data by adding technical indicators to explore trends. PostgreSQL enables efficient storage, quick access, and scalable management of large datasets, making it ideal for local analysis and technical indicator calculations without repeated API calls. Using technical indicators and visualizations, we perform Exploratory Data Analysis (EDA) to identify bullish and bearish trends.\n"
   ]
  },
  {
   "cell_type": "code",
   "execution_count": 612,
   "metadata": {},
   "outputs": [],
   "source": [
    "import psycopg2\n",
    "from psycopg2 import sql\n",
    "import yfinance as yf\n",
    "import pandas as pd\n",
    "import pandas_ta as ta\n",
    "import numpy as np\n",
    "import matplotlib.pyplot as plt\n",
    "import os\n",
    "import requests\n",
    "import warnings\n",
    "from datetime import datetime, timedelta"
   ]
  },
  {
   "cell_type": "markdown",
   "metadata": {},
   "source": [
    "### Source data from yahoo finance"
   ]
  },
  {
   "cell_type": "code",
   "execution_count": null,
   "metadata": {},
   "outputs": [],
   "source": [
    "# Nasadq composite ticker symbol ^IXIC\n",
    "ticker = '^IXIC'\n",
    "start_date = '2024-01-01'\n",
    "date = datetime.now() + timedelta(days=1)\n",
    "end_date = date.strftime('%Y-%m-%d')\n",
    "\n",
    "# Fetch data for a ticker\n",
    "df = yf.download(ticker, start=start_date, end=end_date, progress=False)\n",
    "df_intra = yf.download(ticker, start='2024-08-01', end='2024-10-10', interval='60m', progress=False)"
   ]
  },
  {
   "cell_type": "code",
   "execution_count": 615,
   "metadata": {},
   "outputs": [
    {
     "data": {
      "text/html": [
       "<div>\n",
       "<style scoped>\n",
       "    .dataframe tbody tr th:only-of-type {\n",
       "        vertical-align: middle;\n",
       "    }\n",
       "\n",
       "    .dataframe tbody tr th {\n",
       "        vertical-align: top;\n",
       "    }\n",
       "\n",
       "    .dataframe thead th {\n",
       "        text-align: right;\n",
       "    }\n",
       "</style>\n",
       "<table border=\"1\" class=\"dataframe\">\n",
       "  <thead>\n",
       "    <tr style=\"text-align: right;\">\n",
       "      <th></th>\n",
       "      <th>Date</th>\n",
       "      <th>Open</th>\n",
       "      <th>High</th>\n",
       "      <th>Low</th>\n",
       "      <th>Close</th>\n",
       "      <th>Adj Close</th>\n",
       "      <th>Volume</th>\n",
       "      <th>Ticker</th>\n",
       "    </tr>\n",
       "  </thead>\n",
       "  <tbody>\n",
       "    <tr>\n",
       "      <th>0</th>\n",
       "      <td>2024-01-02</td>\n",
       "      <td>14873.700195</td>\n",
       "      <td>14887.799805</td>\n",
       "      <td>14682.379883</td>\n",
       "      <td>14765.94043</td>\n",
       "      <td>14765.94043</td>\n",
       "      <td>5791170000</td>\n",
       "      <td>^IXIC</td>\n",
       "    </tr>\n",
       "  </tbody>\n",
       "</table>\n",
       "</div>"
      ],
      "text/plain": [
       "        Date          Open          High           Low        Close  \\\n",
       "0 2024-01-02  14873.700195  14887.799805  14682.379883  14765.94043   \n",
       "\n",
       "     Adj Close      Volume Ticker  \n",
       "0  14765.94043  5791170000  ^IXIC  "
      ]
     },
     "execution_count": 615,
     "metadata": {},
     "output_type": "execute_result"
    }
   ],
   "source": [
    "df.reset_index(inplace=True)\n",
    "df['Ticker'] = ticker\n",
    "df.head(1)"
   ]
  },
  {
   "cell_type": "code",
   "execution_count": 616,
   "metadata": {},
   "outputs": [],
   "source": [
    "key = os.getenv('CRED')"
   ]
  },
  {
   "cell_type": "markdown",
   "metadata": {},
   "source": [
    "### Connecting to PostgresSQL and loading into a dataframe called df_sql"
   ]
  },
  {
   "cell_type": "code",
   "execution_count": 617,
   "metadata": {},
   "outputs": [],
   "source": [
    "# psycopg2 is a PostgreSQL database adapter for Python. It allows Python programs to interact with PostgreSQL databases.\n",
    "# creating a varible to connect with the database.\n",
    "\n",
    "conn = psycopg2.connect(\n",
    "    dbname=\"Stocks\",\n",
    "    user=\"postgres\",\n",
    "    password=key,\n",
    "    host=\"localhost\",\n",
    "    port=\"5432\"\n",
    ")\n",
    "# Enable autocommit\n",
    "conn.autocommit = True\n",
    "cur = conn.cursor()    # The cursor allows python to interact with Postgres SQL database."
   ]
  },
  {
   "cell_type": "code",
   "execution_count": 618,
   "metadata": {},
   "outputs": [],
   "source": [
    "# Query the data from the \"stocks\" table and load it into a DataFrame\n",
    "query = 'SELECT * FROM stock_symbol'\n",
    "# df_sql = pd.read_sql(query, conn)\n",
    "warnings.filterwarnings(\"ignore\", message=\"pandas only supports SQLAlchemy connectable\")\n",
    "df_sql = pd.read_sql(query, conn)\n"
   ]
  },
  {
   "cell_type": "code",
   "execution_count": 619,
   "metadata": {},
   "outputs": [
    {
     "data": {
      "text/html": [
       "<div>\n",
       "<style scoped>\n",
       "    .dataframe tbody tr th:only-of-type {\n",
       "        vertical-align: middle;\n",
       "    }\n",
       "\n",
       "    .dataframe tbody tr th {\n",
       "        vertical-align: top;\n",
       "    }\n",
       "\n",
       "    .dataframe thead th {\n",
       "        text-align: right;\n",
       "    }\n",
       "</style>\n",
       "<table border=\"1\" class=\"dataframe\">\n",
       "  <thead>\n",
       "    <tr style=\"text-align: right;\">\n",
       "      <th></th>\n",
       "      <th>id</th>\n",
       "      <th>open</th>\n",
       "      <th>high</th>\n",
       "      <th>low</th>\n",
       "      <th>close</th>\n",
       "      <th>adj_close</th>\n",
       "      <th>volume</th>\n",
       "      <th>ticker</th>\n",
       "      <th>date</th>\n",
       "      <th>day</th>\n",
       "      <th>month</th>\n",
       "      <th>updown_day</th>\n",
       "      <th>fastema</th>\n",
       "      <th>slowema</th>\n",
       "      <th>signal</th>\n",
       "    </tr>\n",
       "  </thead>\n",
       "  <tbody>\n",
       "    <tr>\n",
       "      <th>0</th>\n",
       "      <td>12822</td>\n",
       "      <td>14873.7</td>\n",
       "      <td>14887.8</td>\n",
       "      <td>14682.38</td>\n",
       "      <td>14765.94</td>\n",
       "      <td>14765.94</td>\n",
       "      <td>5.791170e+09</td>\n",
       "      <td>^IXIC</td>\n",
       "      <td>2024-01-02</td>\n",
       "      <td>Tuesday</td>\n",
       "      <td>January</td>\n",
       "      <td>NaN</td>\n",
       "      <td>14765.94043</td>\n",
       "      <td>14765.94043</td>\n",
       "      <td>NaN</td>\n",
       "    </tr>\n",
       "  </tbody>\n",
       "</table>\n",
       "</div>"
      ],
      "text/plain": [
       "      id     open     high       low     close  adj_close        volume  \\\n",
       "0  12822  14873.7  14887.8  14682.38  14765.94   14765.94  5.791170e+09   \n",
       "\n",
       "  ticker        date      day    month updown_day      fastema      slowema  \\\n",
       "0  ^IXIC  2024-01-02  Tuesday  January        NaN  14765.94043  14765.94043   \n",
       "\n",
       "  signal  \n",
       "0    NaN  "
      ]
     },
     "execution_count": 619,
     "metadata": {},
     "output_type": "execute_result"
    }
   ],
   "source": [
    "df_sql.head(1)"
   ]
  },
  {
   "cell_type": "code",
   "execution_count": 620,
   "metadata": {},
   "outputs": [],
   "source": [
    "# cur.execute('''\n",
    "#     SELECT company_info.company, company_info.ticker, stock_symbol.high, stock_symbol.low, stock_symbol.volume\n",
    "#     FROM company_info\n",
    "#     INNER JOIN stock_symbol\n",
    "#     ON company_info.ticker = stock_symbol.ticker;\n",
    "#  ''')\n",
    "\n",
    "# # Fetch all the results\n",
    "# rows = cur.fetchall()\n",
    "\n",
    "# # Print the results\n",
    "# for i in rows:\n",
    "#     print(i)"
   ]
  },
  {
   "cell_type": "code",
   "execution_count": 621,
   "metadata": {},
   "outputs": [],
   "source": [
    "# df.tail()"
   ]
  },
  {
   "cell_type": "code",
   "execution_count": 622,
   "metadata": {},
   "outputs": [],
   "source": [
    "# for _, r in df.iterrows():\n",
    "#     insert_query = '''\n",
    "#         INSERT INTO stock_symbol (open, high, low, close, adj_close, volume, ticker, date)\n",
    "#         VALUES (%s, %s, %s, %s, %s, %s, %s,%s);\n",
    "#         '''\n",
    "#     cur.execute(insert_query, (r['Open'], r['High'], r['Low'], r['Close'], r['Adj Close'], r['Volume'], r['Ticker'], r['Date']))\n",
    "\n",
    "# conn.commit()\n"
   ]
  },
  {
   "cell_type": "code",
   "execution_count": 623,
   "metadata": {},
   "outputs": [],
   "source": [
    "# df = df.reset_index()"
   ]
  },
  {
   "cell_type": "markdown",
   "metadata": {},
   "source": [
    "### Adding new features called day and month, fastema and slowema derived from Date column"
   ]
  },
  {
   "cell_type": "code",
   "execution_count": 624,
   "metadata": {},
   "outputs": [],
   "source": [
    "# Changing Date colum to a date type so we can derive into day and month\n",
    "df['Date'] = pd.to_datetime(df['Date'])\n",
    "\n",
    "# Adding a day column and month column to the dataset\n",
    "df['Day'] = df['Date'].dt.day_name()\n",
    "df['Month'] = df['Date'].dt.month_name()\n",
    "\n",
    "# Adding fastema and slowerema column to the dataset\n",
    "df['Fastema'] = df['Close'].ewm(span=5, adjust=False).mean()\n",
    "df['Slowema'] = df['Close'].ewm(span=7, adjust=False).mean()\n",
    "\n",
    "\n"
   ]
  },
  {
   "cell_type": "markdown",
   "metadata": {},
   "source": [
    "#### Buy and Sell Signal\n"
   ]
  },
  {
   "cell_type": "code",
   "execution_count": 625,
   "metadata": {},
   "outputs": [],
   "source": [
    "def generate_signals(dataset):\n",
    "    buy_signal = (dataset['Fastema'] > dataset['Slowema']) & (dataset['Fastema'].shift(1) < dataset['Slowema'].shift(1))\n",
    "    sell_signal = (dataset['Fastema'] < dataset['Slowema']) & (dataset['Fastema'].shift(1) > dataset['Slowema'].shift(1))\n",
    "\n",
    "    dataset.loc[buy_signal, 'Signal'] = 'Buy'\n",
    "    dataset.loc[sell_signal, 'Signal'] = 'Sell'\n",
    "\n",
    "    return dataset\n",
    "\n",
    "my_df = generate_signals(df)\n"
   ]
  },
  {
   "cell_type": "markdown",
   "metadata": {},
   "source": [
    "### Seasonality features based on day "
   ]
  },
  {
   "cell_type": "code",
   "execution_count": 626,
   "metadata": {},
   "outputs": [],
   "source": [
    "# Calculate up and down days\n",
    "up_day = (df['Close'] > df['Close'].shift(1))\n",
    "down_day = (df['Close'] < df['Close'].shift(1))\n",
    "unch = (df['Close'] == df['Close'].shift(1))"
   ]
  },
  {
   "cell_type": "code",
   "execution_count": 627,
   "metadata": {},
   "outputs": [
    {
     "data": {
      "text/html": [
       "<div>\n",
       "<style scoped>\n",
       "    .dataframe tbody tr th:only-of-type {\n",
       "        vertical-align: middle;\n",
       "    }\n",
       "\n",
       "    .dataframe tbody tr th {\n",
       "        vertical-align: top;\n",
       "    }\n",
       "\n",
       "    .dataframe thead th {\n",
       "        text-align: right;\n",
       "    }\n",
       "</style>\n",
       "<table border=\"1\" class=\"dataframe\">\n",
       "  <thead>\n",
       "    <tr style=\"text-align: right;\">\n",
       "      <th></th>\n",
       "      <th>Date</th>\n",
       "      <th>Open</th>\n",
       "      <th>High</th>\n",
       "      <th>Low</th>\n",
       "      <th>Close</th>\n",
       "      <th>Adj Close</th>\n",
       "      <th>Volume</th>\n",
       "      <th>Ticker</th>\n",
       "      <th>Day</th>\n",
       "      <th>Month</th>\n",
       "      <th>Fastema</th>\n",
       "      <th>Slowema</th>\n",
       "      <th>Signal</th>\n",
       "      <th>UpDown_Day</th>\n",
       "    </tr>\n",
       "  </thead>\n",
       "  <tbody>\n",
       "    <tr>\n",
       "      <th>0</th>\n",
       "      <td>2024-01-02</td>\n",
       "      <td>14873.700195</td>\n",
       "      <td>14887.799805</td>\n",
       "      <td>14682.379883</td>\n",
       "      <td>14765.940430</td>\n",
       "      <td>14765.940430</td>\n",
       "      <td>5791170000</td>\n",
       "      <td>^IXIC</td>\n",
       "      <td>Tuesday</td>\n",
       "      <td>January</td>\n",
       "      <td>14765.940430</td>\n",
       "      <td>14765.940430</td>\n",
       "      <td>NaN</td>\n",
       "      <td>NaN</td>\n",
       "    </tr>\n",
       "    <tr>\n",
       "      <th>1</th>\n",
       "      <td>2024-01-03</td>\n",
       "      <td>14641.469727</td>\n",
       "      <td>14694.580078</td>\n",
       "      <td>14577.440430</td>\n",
       "      <td>14592.209961</td>\n",
       "      <td>14592.209961</td>\n",
       "      <td>5449950000</td>\n",
       "      <td>^IXIC</td>\n",
       "      <td>Wednesday</td>\n",
       "      <td>January</td>\n",
       "      <td>14708.030273</td>\n",
       "      <td>14722.507812</td>\n",
       "      <td>NaN</td>\n",
       "      <td>Down</td>\n",
       "    </tr>\n",
       "    <tr>\n",
       "      <th>2</th>\n",
       "      <td>2024-01-04</td>\n",
       "      <td>14532.230469</td>\n",
       "      <td>14632.769531</td>\n",
       "      <td>14504.780273</td>\n",
       "      <td>14510.299805</td>\n",
       "      <td>14510.299805</td>\n",
       "      <td>5289220000</td>\n",
       "      <td>^IXIC</td>\n",
       "      <td>Thursday</td>\n",
       "      <td>January</td>\n",
       "      <td>14642.120117</td>\n",
       "      <td>14669.455811</td>\n",
       "      <td>NaN</td>\n",
       "      <td>Down</td>\n",
       "    </tr>\n",
       "    <tr>\n",
       "      <th>3</th>\n",
       "      <td>2024-01-05</td>\n",
       "      <td>14500.110352</td>\n",
       "      <td>14625.190430</td>\n",
       "      <td>14477.570312</td>\n",
       "      <td>14524.070312</td>\n",
       "      <td>14524.070312</td>\n",
       "      <td>5232820000</td>\n",
       "      <td>^IXIC</td>\n",
       "      <td>Friday</td>\n",
       "      <td>January</td>\n",
       "      <td>14602.770182</td>\n",
       "      <td>14633.109436</td>\n",
       "      <td>NaN</td>\n",
       "      <td>Up</td>\n",
       "    </tr>\n",
       "    <tr>\n",
       "      <th>4</th>\n",
       "      <td>2024-01-08</td>\n",
       "      <td>14564.469727</td>\n",
       "      <td>14846.900391</td>\n",
       "      <td>14560.200195</td>\n",
       "      <td>14843.769531</td>\n",
       "      <td>14843.769531</td>\n",
       "      <td>6337770000</td>\n",
       "      <td>^IXIC</td>\n",
       "      <td>Monday</td>\n",
       "      <td>January</td>\n",
       "      <td>14683.103299</td>\n",
       "      <td>14685.774460</td>\n",
       "      <td>NaN</td>\n",
       "      <td>Up</td>\n",
       "    </tr>\n",
       "  </tbody>\n",
       "</table>\n",
       "</div>"
      ],
      "text/plain": [
       "        Date          Open          High           Low         Close  \\\n",
       "0 2024-01-02  14873.700195  14887.799805  14682.379883  14765.940430   \n",
       "1 2024-01-03  14641.469727  14694.580078  14577.440430  14592.209961   \n",
       "2 2024-01-04  14532.230469  14632.769531  14504.780273  14510.299805   \n",
       "3 2024-01-05  14500.110352  14625.190430  14477.570312  14524.070312   \n",
       "4 2024-01-08  14564.469727  14846.900391  14560.200195  14843.769531   \n",
       "\n",
       "      Adj Close      Volume Ticker        Day    Month       Fastema  \\\n",
       "0  14765.940430  5791170000  ^IXIC    Tuesday  January  14765.940430   \n",
       "1  14592.209961  5449950000  ^IXIC  Wednesday  January  14708.030273   \n",
       "2  14510.299805  5289220000  ^IXIC   Thursday  January  14642.120117   \n",
       "3  14524.070312  5232820000  ^IXIC     Friday  January  14602.770182   \n",
       "4  14843.769531  6337770000  ^IXIC     Monday  January  14683.103299   \n",
       "\n",
       "        Slowema Signal UpDown_Day  \n",
       "0  14765.940430    NaN        NaN  \n",
       "1  14722.507812    NaN       Down  \n",
       "2  14669.455811    NaN       Down  \n",
       "3  14633.109436    NaN         Up  \n",
       "4  14685.774460    NaN         Up  "
      ]
     },
     "execution_count": 627,
     "metadata": {},
     "output_type": "execute_result"
    }
   ],
   "source": [
    "# Adding new features to show Up, Down and Unchanged days\n",
    "df.loc[up_day, 'UpDown_Day'] = \"Up\"\n",
    "df.loc[down_day, 'UpDown_Day'] = \"Down\"\n",
    "df.loc[unch, 'UpDown_Day'] = \"Unchanged\"\n",
    "df.head(5)"
   ]
  },
  {
   "cell_type": "code",
   "execution_count": 628,
   "metadata": {},
   "outputs": [
    {
     "data": {
      "text/html": [
       "<div>\n",
       "<style scoped>\n",
       "    .dataframe tbody tr th:only-of-type {\n",
       "        vertical-align: middle;\n",
       "    }\n",
       "\n",
       "    .dataframe tbody tr th {\n",
       "        vertical-align: top;\n",
       "    }\n",
       "\n",
       "    .dataframe thead th {\n",
       "        text-align: right;\n",
       "    }\n",
       "</style>\n",
       "<table border=\"1\" class=\"dataframe\">\n",
       "  <thead>\n",
       "    <tr style=\"text-align: right;\">\n",
       "      <th></th>\n",
       "      <th>Date</th>\n",
       "      <th>Open</th>\n",
       "      <th>High</th>\n",
       "      <th>Low</th>\n",
       "      <th>Close</th>\n",
       "      <th>Adj Close</th>\n",
       "      <th>Volume</th>\n",
       "      <th>Ticker</th>\n",
       "      <th>Day</th>\n",
       "      <th>Month</th>\n",
       "      <th>Fastema</th>\n",
       "      <th>Slowema</th>\n",
       "      <th>Signal</th>\n",
       "      <th>UpDown_Day</th>\n",
       "    </tr>\n",
       "  </thead>\n",
       "  <tbody>\n",
       "    <tr>\n",
       "      <th>209</th>\n",
       "      <td>2024-10-30</td>\n",
       "      <td>18731.699219</td>\n",
       "      <td>18785.494141</td>\n",
       "      <td>18598.236328</td>\n",
       "      <td>18607.931641</td>\n",
       "      <td>18607.931641</td>\n",
       "      <td>5994602000</td>\n",
       "      <td>^IXIC</td>\n",
       "      <td>Wednesday</td>\n",
       "      <td>October</td>\n",
       "      <td>18578.73894</td>\n",
       "      <td>18549.605185</td>\n",
       "      <td>NaN</td>\n",
       "      <td>Down</td>\n",
       "    </tr>\n",
       "  </tbody>\n",
       "</table>\n",
       "</div>"
      ],
      "text/plain": [
       "          Date          Open          High           Low         Close  \\\n",
       "209 2024-10-30  18731.699219  18785.494141  18598.236328  18607.931641   \n",
       "\n",
       "        Adj Close      Volume Ticker        Day    Month      Fastema  \\\n",
       "209  18607.931641  5994602000  ^IXIC  Wednesday  October  18578.73894   \n",
       "\n",
       "          Slowema Signal UpDown_Day  \n",
       "209  18549.605185    NaN       Down  "
      ]
     },
     "execution_count": 628,
     "metadata": {},
     "output_type": "execute_result"
    }
   ],
   "source": [
    "df.tail(1)"
   ]
  },
  {
   "cell_type": "markdown",
   "metadata": {},
   "source": [
    "### Adding new features columns, day, month & updown_day, into the postgres table stock_symbol.\n"
   ]
  },
  {
   "cell_type": "code",
   "execution_count": 629,
   "metadata": {},
   "outputs": [],
   "source": [
    "columns_query = '''\n",
    "    SELECT column_name\n",
    "    FROM information_schema.columns\n",
    "    WHERE table_name = 'stock_symbol';\n",
    "'''\n",
    "cur.execute(columns_query)\n",
    "columns = cur.fetchall()"
   ]
  },
  {
   "cell_type": "code",
   "execution_count": 630,
   "metadata": {},
   "outputs": [
    {
     "name": "stdout",
     "output_type": "stream",
     "text": [
      "[('id',), ('open',), ('high',), ('low',), ('close',), ('adj_close',), ('volume',), ('ticker',), ('date',), ('day',), ('month',), ('updown_day',), ('fastema',), ('slowema',), ('signal',)]\n"
     ]
    }
   ],
   "source": [
    "print(columns)"
   ]
  },
  {
   "cell_type": "code",
   "execution_count": 631,
   "metadata": {},
   "outputs": [],
   "source": [
    "if ('day',) not in columns:\n",
    "    cur.execute(\n",
    "        '''\n",
    "        ALTER TABLE \"stock_symbol\"\n",
    "        ADD COLUMN \"day\" TEXT;\n",
    "        '''\n",
    "        )"
   ]
  },
  {
   "cell_type": "code",
   "execution_count": 632,
   "metadata": {},
   "outputs": [],
   "source": [
    "if('month',) not in columns:\n",
    "    cur.execute(\n",
    "     '''\n",
    "     ALTER TABLE \"stock_symbol\"\n",
    "     ADD COLUMN \"month\" TEXT;\n",
    "    '''\n",
    "    )"
   ]
  },
  {
   "cell_type": "code",
   "execution_count": 633,
   "metadata": {},
   "outputs": [],
   "source": [
    "if('updown_day',) not in columns:\n",
    "    cur.execute(\n",
    "     '''\n",
    "     ALTER TABLE \"stock_symbol\"\n",
    "     ADD COLUMN \"updown_day\" TEXT;\n",
    "    '''\n",
    "    )"
   ]
  },
  {
   "cell_type": "code",
   "execution_count": 634,
   "metadata": {},
   "outputs": [],
   "source": [
    "if('fastema',) not in columns:\n",
    "    cur.execute(\n",
    "    '''\n",
    "    ALTER TABLE \"stock_symbol\"\n",
    "    ADD COLUMN \"fastema\" FLOAT;\n",
    "    '''\n",
    "    )"
   ]
  },
  {
   "cell_type": "code",
   "execution_count": 635,
   "metadata": {},
   "outputs": [],
   "source": [
    "if('slowema',) not in columns:\n",
    "    cur.execute(\n",
    "    '''\n",
    "    ALTER TABLE \"stock_symbol\"\n",
    "    ADD COLUMN \"slowema\" FLOAT;\n",
    "    '''\n",
    "    )"
   ]
  },
  {
   "cell_type": "code",
   "execution_count": 636,
   "metadata": {},
   "outputs": [],
   "source": [
    "if('signal',) not in columns:\n",
    "    cur.execute(\n",
    "     '''\n",
    "     ALTER TABLE \"stock_symbol\"\n",
    "     ADD COLUMN \"signal\" TEXT;\n",
    "     '''\n",
    "    )"
   ]
  },
  {
   "cell_type": "markdown",
   "metadata": {},
   "source": [
    "### Adding data from df to postgresSQL along with new features"
   ]
  },
  {
   "cell_type": "code",
   "execution_count": 637,
   "metadata": {},
   "outputs": [],
   "source": [
    "# Deleting all data from table so we can upload fresh data/\n",
    "cur.execute('''DELETE FROM stock_symbol''')"
   ]
  },
  {
   "cell_type": "code",
   "execution_count": 638,
   "metadata": {},
   "outputs": [],
   "source": [
    "# # Iterating through the rows and inserting into table\n",
    "# for _, r in df.iterrows():\n",
    "#     insert_query = '''\n",
    "#         INSERT INTO stock_symbol (open, high, low, close, adj_close, volume, ticker, date, day, month, updown_day, fastema, slowema, signal)\n",
    "#         VALUES (%s, %s, %s, %s, %s, %s, %s, %s, %s, %s, %s, %s, %s, %s);\n",
    "#         '''\n",
    "#     # cur.execute(insert_query, (r['Open'], r['High'], r['Low'], r['Close'], r['Adj Close'], r['Volume'], r['Ticker'], r['Date'],  r['Day'], r['Month'], r['UpDown_Day'], r['Fastema']))\n",
    "#     cur.execute(insert_query, (r['Open'], r['High'], r['Low'], r['Close'], r['Adj Close'], r['Volume'], r['Ticker'], r['Date'], r['Day'], r['Month'], r['UpDown_Day'], r['Fastema'], r['Slowema'], r['Signal']))\n",
    "# conn.commit()\n",
    "\n",
    "df = generate_signals(df)\n",
    "\n",
    "# Iterating through the rows and inserting into the table\n",
    "for _, r in df.iterrows():\n",
    "    insert_query = '''\n",
    "        INSERT INTO stock_symbol (open, high, low, close, adj_close, volume, ticker, date, day, month, updown_day, fastema, slowema, signal)\n",
    "        VALUES (%s, %s, %s, %s, %s, %s, %s, %s, %s, %s, %s, %s, %s, %s);\n",
    "    '''\n",
    "    cur.execute(insert_query, (r['Open'], r['High'], r['Low'], r['Close'], r['Adj Close'], r['Volume'], r['Ticker'], r['Date'],\n",
    "                               r['Day'], r['Month'], r['UpDown_Day'], r['Fastema'], r['Slowema'], r['Signal']))\n",
    "conn.commit()"
   ]
  },
  {
   "cell_type": "code",
   "execution_count": 639,
   "metadata": {},
   "outputs": [
    {
     "data": {
      "text/html": [
       "<div>\n",
       "<style scoped>\n",
       "    .dataframe tbody tr th:only-of-type {\n",
       "        vertical-align: middle;\n",
       "    }\n",
       "\n",
       "    .dataframe tbody tr th {\n",
       "        vertical-align: top;\n",
       "    }\n",
       "\n",
       "    .dataframe thead th {\n",
       "        text-align: right;\n",
       "    }\n",
       "</style>\n",
       "<table border=\"1\" class=\"dataframe\">\n",
       "  <thead>\n",
       "    <tr style=\"text-align: right;\">\n",
       "      <th></th>\n",
       "      <th>id</th>\n",
       "      <th>open</th>\n",
       "      <th>high</th>\n",
       "      <th>low</th>\n",
       "      <th>close</th>\n",
       "      <th>adj_close</th>\n",
       "      <th>volume</th>\n",
       "      <th>ticker</th>\n",
       "      <th>date</th>\n",
       "      <th>day</th>\n",
       "      <th>month</th>\n",
       "      <th>updown_day</th>\n",
       "      <th>fastema</th>\n",
       "      <th>slowema</th>\n",
       "      <th>signal</th>\n",
       "    </tr>\n",
       "  </thead>\n",
       "  <tbody>\n",
       "    <tr>\n",
       "      <th>0</th>\n",
       "      <td>13032</td>\n",
       "      <td>14873.7</td>\n",
       "      <td>14887.8</td>\n",
       "      <td>14682.38</td>\n",
       "      <td>14765.94</td>\n",
       "      <td>14765.94</td>\n",
       "      <td>5.791170e+09</td>\n",
       "      <td>^IXIC</td>\n",
       "      <td>2024-01-02</td>\n",
       "      <td>Tuesday</td>\n",
       "      <td>January</td>\n",
       "      <td>NaN</td>\n",
       "      <td>14765.94043</td>\n",
       "      <td>14765.94043</td>\n",
       "      <td>NaN</td>\n",
       "    </tr>\n",
       "  </tbody>\n",
       "</table>\n",
       "</div>"
      ],
      "text/plain": [
       "      id     open     high       low     close  adj_close        volume  \\\n",
       "0  13032  14873.7  14887.8  14682.38  14765.94   14765.94  5.791170e+09   \n",
       "\n",
       "  ticker        date      day    month updown_day      fastema      slowema  \\\n",
       "0  ^IXIC  2024-01-02  Tuesday  January        NaN  14765.94043  14765.94043   \n",
       "\n",
       "  signal  \n",
       "0    NaN  "
      ]
     },
     "execution_count": 639,
     "metadata": {},
     "output_type": "execute_result"
    }
   ],
   "source": [
    "# Query the data from the \"stocks\" table and load it into a DataFrame\n",
    "query = 'SELECT * FROM stock_symbol'\n",
    "df_sql = pd.read_sql(query, conn)\n",
    "df_sql.head(1)"
   ]
  },
  {
   "cell_type": "code",
   "execution_count": 640,
   "metadata": {},
   "outputs": [
    {
     "data": {
      "text/html": [
       "<div>\n",
       "<style scoped>\n",
       "    .dataframe tbody tr th:only-of-type {\n",
       "        vertical-align: middle;\n",
       "    }\n",
       "\n",
       "    .dataframe tbody tr th {\n",
       "        vertical-align: top;\n",
       "    }\n",
       "\n",
       "    .dataframe thead th {\n",
       "        text-align: right;\n",
       "    }\n",
       "</style>\n",
       "<table border=\"1\" class=\"dataframe\">\n",
       "  <thead>\n",
       "    <tr style=\"text-align: right;\">\n",
       "      <th></th>\n",
       "      <th>id</th>\n",
       "      <th>open</th>\n",
       "      <th>high</th>\n",
       "      <th>low</th>\n",
       "      <th>close</th>\n",
       "      <th>adj_close</th>\n",
       "      <th>volume</th>\n",
       "      <th>ticker</th>\n",
       "      <th>date</th>\n",
       "      <th>day</th>\n",
       "      <th>month</th>\n",
       "      <th>updown_day</th>\n",
       "      <th>fastema</th>\n",
       "      <th>slowema</th>\n",
       "      <th>signal</th>\n",
       "    </tr>\n",
       "  </thead>\n",
       "  <tbody>\n",
       "    <tr>\n",
       "      <th>0</th>\n",
       "      <td>13032</td>\n",
       "      <td>14873.70</td>\n",
       "      <td>14887.80</td>\n",
       "      <td>14682.38</td>\n",
       "      <td>14765.94</td>\n",
       "      <td>14765.94</td>\n",
       "      <td>5.791170e+09</td>\n",
       "      <td>^IXIC</td>\n",
       "      <td>2024-01-02</td>\n",
       "      <td>Tuesday</td>\n",
       "      <td>January</td>\n",
       "      <td>NaN</td>\n",
       "      <td>14765.940430</td>\n",
       "      <td>14765.940430</td>\n",
       "      <td>NaN</td>\n",
       "    </tr>\n",
       "    <tr>\n",
       "      <th>1</th>\n",
       "      <td>13033</td>\n",
       "      <td>14641.47</td>\n",
       "      <td>14694.58</td>\n",
       "      <td>14577.44</td>\n",
       "      <td>14592.21</td>\n",
       "      <td>14592.21</td>\n",
       "      <td>5.449950e+09</td>\n",
       "      <td>^IXIC</td>\n",
       "      <td>2024-01-03</td>\n",
       "      <td>Wednesday</td>\n",
       "      <td>January</td>\n",
       "      <td>Down</td>\n",
       "      <td>14708.030273</td>\n",
       "      <td>14722.507812</td>\n",
       "      <td>NaN</td>\n",
       "    </tr>\n",
       "    <tr>\n",
       "      <th>2</th>\n",
       "      <td>13034</td>\n",
       "      <td>14532.23</td>\n",
       "      <td>14632.77</td>\n",
       "      <td>14504.78</td>\n",
       "      <td>14510.30</td>\n",
       "      <td>14510.30</td>\n",
       "      <td>5.289220e+09</td>\n",
       "      <td>^IXIC</td>\n",
       "      <td>2024-01-04</td>\n",
       "      <td>Thursday</td>\n",
       "      <td>January</td>\n",
       "      <td>Down</td>\n",
       "      <td>14642.120117</td>\n",
       "      <td>14669.455811</td>\n",
       "      <td>NaN</td>\n",
       "    </tr>\n",
       "    <tr>\n",
       "      <th>3</th>\n",
       "      <td>13035</td>\n",
       "      <td>14500.11</td>\n",
       "      <td>14625.19</td>\n",
       "      <td>14477.57</td>\n",
       "      <td>14524.07</td>\n",
       "      <td>14524.07</td>\n",
       "      <td>5.232820e+09</td>\n",
       "      <td>^IXIC</td>\n",
       "      <td>2024-01-05</td>\n",
       "      <td>Friday</td>\n",
       "      <td>January</td>\n",
       "      <td>Up</td>\n",
       "      <td>14602.770182</td>\n",
       "      <td>14633.109436</td>\n",
       "      <td>NaN</td>\n",
       "    </tr>\n",
       "    <tr>\n",
       "      <th>4</th>\n",
       "      <td>13036</td>\n",
       "      <td>14564.47</td>\n",
       "      <td>14846.90</td>\n",
       "      <td>14560.20</td>\n",
       "      <td>14843.77</td>\n",
       "      <td>14843.77</td>\n",
       "      <td>6.337770e+09</td>\n",
       "      <td>^IXIC</td>\n",
       "      <td>2024-01-08</td>\n",
       "      <td>Monday</td>\n",
       "      <td>January</td>\n",
       "      <td>Up</td>\n",
       "      <td>14683.103299</td>\n",
       "      <td>14685.774460</td>\n",
       "      <td>NaN</td>\n",
       "    </tr>\n",
       "    <tr>\n",
       "      <th>5</th>\n",
       "      <td>13037</td>\n",
       "      <td>14744.13</td>\n",
       "      <td>14894.32</td>\n",
       "      <td>14716.71</td>\n",
       "      <td>14857.71</td>\n",
       "      <td>14857.71</td>\n",
       "      <td>5.068410e+09</td>\n",
       "      <td>^IXIC</td>\n",
       "      <td>2024-01-09</td>\n",
       "      <td>Tuesday</td>\n",
       "      <td>January</td>\n",
       "      <td>Up</td>\n",
       "      <td>14741.305519</td>\n",
       "      <td>14728.758335</td>\n",
       "      <td>Buy</td>\n",
       "    </tr>\n",
       "    <tr>\n",
       "      <th>6</th>\n",
       "      <td>13038</td>\n",
       "      <td>14877.70</td>\n",
       "      <td>14998.20</td>\n",
       "      <td>14842.70</td>\n",
       "      <td>14969.65</td>\n",
       "      <td>14969.65</td>\n",
       "      <td>4.404590e+09</td>\n",
       "      <td>^IXIC</td>\n",
       "      <td>2024-01-10</td>\n",
       "      <td>Wednesday</td>\n",
       "      <td>January</td>\n",
       "      <td>Up</td>\n",
       "      <td>14817.420476</td>\n",
       "      <td>14788.981349</td>\n",
       "      <td>NaN</td>\n",
       "    </tr>\n",
       "    <tr>\n",
       "      <th>7</th>\n",
       "      <td>13039</td>\n",
       "      <td>15020.95</td>\n",
       "      <td>15063.61</td>\n",
       "      <td>14800.38</td>\n",
       "      <td>14970.19</td>\n",
       "      <td>14970.19</td>\n",
       "      <td>5.044690e+09</td>\n",
       "      <td>^IXIC</td>\n",
       "      <td>2024-01-11</td>\n",
       "      <td>Thursday</td>\n",
       "      <td>January</td>\n",
       "      <td>Up</td>\n",
       "      <td>14868.343794</td>\n",
       "      <td>14834.283619</td>\n",
       "      <td>NaN</td>\n",
       "    </tr>\n",
       "  </tbody>\n",
       "</table>\n",
       "</div>"
      ],
      "text/plain": [
       "      id      open      high       low     close  adj_close        volume  \\\n",
       "0  13032  14873.70  14887.80  14682.38  14765.94   14765.94  5.791170e+09   \n",
       "1  13033  14641.47  14694.58  14577.44  14592.21   14592.21  5.449950e+09   \n",
       "2  13034  14532.23  14632.77  14504.78  14510.30   14510.30  5.289220e+09   \n",
       "3  13035  14500.11  14625.19  14477.57  14524.07   14524.07  5.232820e+09   \n",
       "4  13036  14564.47  14846.90  14560.20  14843.77   14843.77  6.337770e+09   \n",
       "5  13037  14744.13  14894.32  14716.71  14857.71   14857.71  5.068410e+09   \n",
       "6  13038  14877.70  14998.20  14842.70  14969.65   14969.65  4.404590e+09   \n",
       "7  13039  15020.95  15063.61  14800.38  14970.19   14970.19  5.044690e+09   \n",
       "\n",
       "  ticker        date        day    month updown_day       fastema  \\\n",
       "0  ^IXIC  2024-01-02    Tuesday  January        NaN  14765.940430   \n",
       "1  ^IXIC  2024-01-03  Wednesday  January       Down  14708.030273   \n",
       "2  ^IXIC  2024-01-04   Thursday  January       Down  14642.120117   \n",
       "3  ^IXIC  2024-01-05     Friday  January         Up  14602.770182   \n",
       "4  ^IXIC  2024-01-08     Monday  January         Up  14683.103299   \n",
       "5  ^IXIC  2024-01-09    Tuesday  January         Up  14741.305519   \n",
       "6  ^IXIC  2024-01-10  Wednesday  January         Up  14817.420476   \n",
       "7  ^IXIC  2024-01-11   Thursday  January         Up  14868.343794   \n",
       "\n",
       "        slowema signal  \n",
       "0  14765.940430    NaN  \n",
       "1  14722.507812    NaN  \n",
       "2  14669.455811    NaN  \n",
       "3  14633.109436    NaN  \n",
       "4  14685.774460    NaN  \n",
       "5  14728.758335    Buy  \n",
       "6  14788.981349    NaN  \n",
       "7  14834.283619    NaN  "
      ]
     },
     "execution_count": 640,
     "metadata": {},
     "output_type": "execute_result"
    }
   ],
   "source": [
    "# Show the first few rows\n",
    "df_sql.head(8)"
   ]
  },
  {
   "cell_type": "code",
   "execution_count": 641,
   "metadata": {},
   "outputs": [],
   "source": [
    "# # Export to CSV\n",
    "# df_sql.to_excel(r'C:\\Users\\rinde\\OneDrive\\Desktop\\stocks.xlsx')"
   ]
  },
  {
   "cell_type": "code",
   "execution_count": 642,
   "metadata": {},
   "outputs": [],
   "source": [
    "# create chart with days of the week and the open and close day column"
   ]
  },
  {
   "cell_type": "code",
   "execution_count": 643,
   "metadata": {},
   "outputs": [],
   "source": [
    "cur.close()\n",
    "conn.close()"
   ]
  },
  {
   "cell_type": "code",
   "execution_count": 644,
   "metadata": {},
   "outputs": [],
   "source": [
    "df_clean = df_sql.replace('NaN', 'Down')\n",
    "\n"
   ]
  },
  {
   "cell_type": "markdown",
   "metadata": {},
   "source": [
    " day_order defines the correct order for the days of the workweek from Monday to Friday\n"
   ]
  },
  {
   "cell_type": "code",
   "execution_count": 645,
   "metadata": {},
   "outputs": [],
   "source": [
    "day_order = ['Monday', 'Tuesday', 'Wednesday', 'Thursday', 'Friday']\n",
    "\n",
    "# Convert 'day' column to a categorical variable with the specified order\n",
    "df_clean['day'] = pd.Categorical(df_clean['day'], categories=day_order, ordered=True)"
   ]
  },
  {
   "cell_type": "code",
   "execution_count": 646,
   "metadata": {},
   "outputs": [],
   "source": [
    "df_clean['date'] = pd.to_datetime(df_clean['date'])\n",
    "\n",
    "df_clean.set_index('date', inplace=True)\n",
    "\n",
    "date_filter_start = '2024-07-01'\n",
    "\n",
    "date_filter = df_clean[date_filter_start:end_date]"
   ]
  },
  {
   "cell_type": "code",
   "execution_count": 647,
   "metadata": {},
   "outputs": [
    {
     "data": {
      "text/html": [
       "<div>\n",
       "<style scoped>\n",
       "    .dataframe tbody tr th:only-of-type {\n",
       "        vertical-align: middle;\n",
       "    }\n",
       "\n",
       "    .dataframe tbody tr th {\n",
       "        vertical-align: top;\n",
       "    }\n",
       "\n",
       "    .dataframe thead th {\n",
       "        text-align: right;\n",
       "    }\n",
       "</style>\n",
       "<table border=\"1\" class=\"dataframe\">\n",
       "  <thead>\n",
       "    <tr style=\"text-align: right;\">\n",
       "      <th>updown_day</th>\n",
       "      <th>Down</th>\n",
       "      <th>Up</th>\n",
       "      <th>% Up</th>\n",
       "    </tr>\n",
       "    <tr>\n",
       "      <th>day</th>\n",
       "      <th></th>\n",
       "      <th></th>\n",
       "      <th></th>\n",
       "    </tr>\n",
       "  </thead>\n",
       "  <tbody>\n",
       "    <tr>\n",
       "      <th>Monday</th>\n",
       "      <td>4</td>\n",
       "      <td>13</td>\n",
       "      <td>76.470588</td>\n",
       "    </tr>\n",
       "    <tr>\n",
       "      <th>Tuesday</th>\n",
       "      <td>6</td>\n",
       "      <td>12</td>\n",
       "      <td>66.666667</td>\n",
       "    </tr>\n",
       "    <tr>\n",
       "      <th>Wednesday</th>\n",
       "      <td>8</td>\n",
       "      <td>10</td>\n",
       "      <td>55.555556</td>\n",
       "    </tr>\n",
       "    <tr>\n",
       "      <th>Thursday</th>\n",
       "      <td>8</td>\n",
       "      <td>8</td>\n",
       "      <td>50.000000</td>\n",
       "    </tr>\n",
       "    <tr>\n",
       "      <th>Friday</th>\n",
       "      <td>5</td>\n",
       "      <td>12</td>\n",
       "      <td>70.588235</td>\n",
       "    </tr>\n",
       "  </tbody>\n",
       "</table>\n",
       "</div>"
      ],
      "text/plain": [
       "updown_day  Down  Up       % Up\n",
       "day                            \n",
       "Monday         4  13  76.470588\n",
       "Tuesday        6  12  66.666667\n",
       "Wednesday      8  10  55.555556\n",
       "Thursday       8   8  50.000000\n",
       "Friday         5  12  70.588235"
      ]
     },
     "execution_count": 647,
     "metadata": {},
     "output_type": "execute_result"
    }
   ],
   "source": [
    "# create a pivote table and assign it to a new dataframe df_pvtDay\n",
    "df_pvtDay = pd.pivot_table(date_filter, index='day', columns='updown_day', aggfunc='size', fill_value=0)\n",
    "\n",
    "# Calculate the total sales for each city and add it as a new column\n",
    "df_pvtDay['% Up'] = (df_pvtDay['Up'] / df_pvtDay.sum(axis=1)) * 100\n",
    "\n",
    "df_pvtDay.head()\n"
   ]
  },
  {
   "cell_type": "markdown",
   "metadata": {},
   "source": [
    "month column using pandas DataFrame (df_clean) into a categorical variable with an explicitly defined chronological order (January to December)"
   ]
  },
  {
   "cell_type": "code",
   "execution_count": 648,
   "metadata": {},
   "outputs": [],
   "source": [
    "month_order = ['January', 'February', 'March', 'April', 'May', 'June',\n",
    "               'July', 'August', 'September', 'October', 'November', 'December']\n",
    "\n",
    "# Convert 'month' column in df_clean to a categorical variable with the correct month order\n",
    "df_clean['month'] = pd.Categorical(df_clean['month'], categories=month_order, ordered=True)"
   ]
  },
  {
   "cell_type": "markdown",
   "metadata": {},
   "source": [
    " pivot table (df_pvtMonth) from the df_clean DataFrame, summarizing the count of 'Up' and 'Down' days for each month. <br>\n",
    " It then adds a new column % Up, which calculates the percentage of 'Up' days for each month."
   ]
  },
  {
   "cell_type": "code",
   "execution_count": 649,
   "metadata": {},
   "outputs": [
    {
     "data": {
      "text/html": [
       "<div>\n",
       "<style scoped>\n",
       "    .dataframe tbody tr th:only-of-type {\n",
       "        vertical-align: middle;\n",
       "    }\n",
       "\n",
       "    .dataframe tbody tr th {\n",
       "        vertical-align: top;\n",
       "    }\n",
       "\n",
       "    .dataframe thead th {\n",
       "        text-align: right;\n",
       "    }\n",
       "</style>\n",
       "<table border=\"1\" class=\"dataframe\">\n",
       "  <thead>\n",
       "    <tr style=\"text-align: right;\">\n",
       "      <th>updown_day</th>\n",
       "      <th>Down</th>\n",
       "      <th>Up</th>\n",
       "      <th>% Up</th>\n",
       "    </tr>\n",
       "    <tr>\n",
       "      <th>month</th>\n",
       "      <th></th>\n",
       "      <th></th>\n",
       "      <th></th>\n",
       "    </tr>\n",
       "  </thead>\n",
       "  <tbody>\n",
       "    <tr>\n",
       "      <th>January</th>\n",
       "      <td>8</td>\n",
       "      <td>13</td>\n",
       "      <td>61.904762</td>\n",
       "    </tr>\n",
       "    <tr>\n",
       "      <th>February</th>\n",
       "      <td>9</td>\n",
       "      <td>11</td>\n",
       "      <td>55.000000</td>\n",
       "    </tr>\n",
       "    <tr>\n",
       "      <th>March</th>\n",
       "      <td>10</td>\n",
       "      <td>10</td>\n",
       "      <td>50.000000</td>\n",
       "    </tr>\n",
       "    <tr>\n",
       "      <th>April</th>\n",
       "      <td>11</td>\n",
       "      <td>11</td>\n",
       "      <td>50.000000</td>\n",
       "    </tr>\n",
       "    <tr>\n",
       "      <th>May</th>\n",
       "      <td>11</td>\n",
       "      <td>11</td>\n",
       "      <td>50.000000</td>\n",
       "    </tr>\n",
       "  </tbody>\n",
       "</table>\n",
       "</div>"
      ],
      "text/plain": [
       "updown_day  Down  Up       % Up\n",
       "month                          \n",
       "January        8  13  61.904762\n",
       "February       9  11  55.000000\n",
       "March         10  10  50.000000\n",
       "April         11  11  50.000000\n",
       "May           11  11  50.000000"
      ]
     },
     "execution_count": 649,
     "metadata": {},
     "output_type": "execute_result"
    }
   ],
   "source": [
    "\n",
    "# create pivote table and assign it to a new dataframe df_pvtMonth\n",
    "df_pvtMonth = pd.pivot_table(df_clean, index='month', columns='updown_day', aggfunc='size', fill_value=0)\n",
    "\n",
    "# Calculate the total sales for each city and add it as a new column\n",
    "df_pvtMonth['% Up'] = (df_pvtMonth['Up'] / df_pvtMonth.sum(axis=1)) * 100\n",
    "df_pvtMonth.head()\n"
   ]
  },
  {
   "cell_type": "markdown",
   "metadata": {},
   "source": [
    "### Chart Showing Ratio Of Up And Down Days For Each Day Of The Week\n",
    "Mondays have a higher chance of closing up since July."
   ]
  },
  {
   "cell_type": "code",
   "execution_count": 650,
   "metadata": {},
   "outputs": [
    {
     "data": {
      "image/png": "[encoded data removed]",
      "text/plain": [
       "<Figure size 1000x600 with 1 Axes>"
      ]
     },
     "metadata": {},
     "output_type": "display_data"
    }
   ],
   "source": [
    "df_pvtDay = pd.DataFrame(df_pvtDay, index=['Monday', 'Tuesday', 'Wednesday', 'Thursday', 'Friday'])\n",
    "\n",
    "# Drop '% Up' column to focus on counts for 'Up' and 'Down'\n",
    "df_pvtDay_plot = df_pvtDay.drop(columns='% Up')\n",
    "\n",
    "# Calculate percentage for each category within each day (row-wise)\n",
    "df_pvtDay_percent = df_pvtDay_plot.div(df_pvtDay_plot.sum(axis=1), axis=0) * 100\n",
    "\n",
    "color_map = ['orange', 'darkseagreen']\n",
    "\n",
    "\n",
    "# Plotting the pivot table as a stacked bar chart\n",
    "ax = df_pvtDay_plot.plot(kind='bar', stacked=True, figsize=(10, 6), width=0.8, color=color_map)\n",
    "\n",
    "# Adding percentage labels within each bar segment\n",
    "for i, bar_group in enumerate(ax.containers):\n",
    "    for j, bar in enumerate(bar_group):\n",
    "        # Only label bars with a non-zero height\n",
    "        height = bar.get_height()\n",
    "        if height > 0:\n",
    "            # Position the percentage label in the center of each bar segment\n",
    "            x_position = bar.get_x() + bar.get_width() / 2\n",
    "            y_position = bar.get_y() + height / 2\n",
    "\n",
    "            # Retrieve the percentage value from df_pvtDay_percent\n",
    "            percentage = df_pvtDay_percent.iloc[j, i]\n",
    "\n",
    "            # Display the percentage inside each bar segment\n",
    "            ax.text(\n",
    "                x_position, y_position,  # Position in the center of the segment\n",
    "                f'{percentage:.1f}%',  # Format to 1 decimal place\n",
    "                ha='center', va='center', color='white', fontsize=10\n",
    "            )\n",
    "\n",
    "# Adding titles and labels\n",
    "plt.title(f'Percentages of Up and Down Days, {date_filter_start} - {end_date}')\n",
    "plt.xlabel('Day')\n",
    "plt.ylabel('Count of Days')\n",
    "plt.xticks(rotation=0)  # Keep x-axis labels horizontal for readability\n",
    "\n",
    "# Show the plot\n",
    "plt.tight_layout()\n",
    "plt.show()"
   ]
  },
  {
   "cell_type": "markdown",
   "metadata": {},
   "source": [
    "### Chart Showing Ratio Of Up And Down Days For Each Day Of The Week\n",
    "\n"
   ]
  },
  {
   "cell_type": "code",
   "execution_count": null,
   "metadata": {},
   "outputs": [],
   "source": [
    "# new code\n"
   ]
  },
  {
   "cell_type": "markdown",
   "metadata": {},
   "source": [
    "### Chart Showing Per Month Breakdown Of Up And Down Days - YTD\n"
   ]
  },
  {
   "cell_type": "code",
   "execution_count": null,
   "metadata": {},
   "outputs": [
    {
     "data": {
      "image/png": "[encoded data removed]",
      "text/plain": [
       "<Figure size 1000x600 with 1 Axes>"
      ]
     },
     "metadata": {},
     "output_type": "display_data"
    }
   ],
   "source": [
    "df_pvtMonth_plot = df_pvtMonth.drop(columns='% Up')\n",
    "\n",
    "# Calculate percentage for each category within each month (row-wise)\n",
    "df_pvtMonth_percent = df_pvtMonth_plot.div(df_pvtMonth_plot.sum(axis=1), axis=0) * 100\n",
    "\n",
    "# Plotting the pivot table as a clustered column chart (vertical bars)\n",
    "ax = df_pvtMonth_plot.plot(kind='bar', figsize=(10, 6), width=0.8, colormap='Set2')\n",
    "\n",
    "# Adding percentage labels on top of each bar\n",
    "for i, bar_group in enumerate(ax.containers):\n",
    "    for bar in bar_group:\n",
    "        # Get height and x position of each bar\n",
    "        height = bar.get_height()\n",
    "        x_position = bar.get_x() + bar.get_width() / 2\n",
    "\n",
    "        # Add percentage text (based on df_pvtMonth_percent values)\n",
    "        ax.text(\n",
    "            x_position, height + 1,  # Position slightly above the bar\n",
    "            f'{df_pvtMonth_percent.iloc[int(bar.get_x() + 0.5), i]:.1f}%',  # Format to 1 decimal place\n",
    "            ha='center', va='bottom'\n",
    "        )\n",
    "\n",
    "# Adding titles and labels\n",
    "plt.title('Clustered Column Chart of Up and Down Days by Month')\n",
    "plt.xlabel('Month')\n",
    "plt.ylabel('Count')\n",
    "plt.xticks(rotation=0)  # Keep month labels horizontal for better readability\n",
    "\n",
    "# Show the plot\n",
    "plt.tight_layout()  # Ensure the layout is nicely spaced\n",
    "plt.show()"
   ]
  },
  {
   "cell_type": "markdown",
   "metadata": {},
   "source": []
  },
  {
   "cell_type": "markdown",
   "metadata": {},
   "source": [
    "### Line Graph Showing Buy & Sell Signals Based On 5 & 7 Day Exponential Moving Averages (EMA).\n",
    "When the 5 day EMA crosses above the 7 day EMA there is a higher chance of upward trend. <br>\n",
    "When the 5 day EMA crosses below the 7 day EMA there is a higher chance of downward trend. "
   ]
  },
  {
   "cell_type": "code",
   "execution_count": 652,
   "metadata": {},
   "outputs": [
    {
     "data": {
      "image/png": "[encoded data removed]",
      "text/plain": [
       "<Figure size 1600x800 with 1 Axes>"
      ]
     },
     "metadata": {},
     "output_type": "display_data"
    }
   ],
   "source": [
    "buy_signal = df['Signal'] == 'Buy'\n",
    "sell_signal = df['Signal'] == 'Sell'\n",
    "\n",
    "plt.figure(figsize=(16, 8))\n",
    "\n",
    "# Plotting the line graph for 'Close' prices\n",
    "plt.plot(df['Date'], df['Close'], label='Close Price', color='gray')\n",
    "\n",
    "# Highlight buy signals in green\n",
    "plt.scatter(df['Date'][buy_signal], df['Close'][buy_signal], marker='^', s=50, color='green', label='Buy')\n",
    "\n",
    "# Highlight sell signals in red\n",
    "plt.scatter(df['Date'][sell_signal], df['Close'][sell_signal], marker='v', s=50, color='red', label='Sell')\n",
    "\n",
    "# Optional: You can highlight unchanged days in blue if you want\n",
    "# unch = (df['Signal'].isna())  # Example for days with no signal (you can define this based on your logic)\n",
    "# plt.scatter(df['Date'][unch], df['Close'][unch], color='blue', label='Unchanged')\n",
    "\n",
    "# Adding labels and legend\n",
    "plt.xlabel('Date')\n",
    "plt.ylabel('Close Price')\n",
    "plt.title('Stock Price with Buy and Sell Signals')\n",
    "plt.legend()\n",
    "\n",
    "plt.gca().set_facecolor('black')  # Set the background color to black\n",
    "\n",
    "# Show the plot\n",
    "plt.xticks(rotation=45)\n",
    "plt.tight_layout()\n",
    "plt.show()\n",
    "\n",
    "\n",
    "# # Plot the line graph with arrows indicating the direction of crossover\n",
    "# plt.figure(figsize=(16, 8))\n",
    "# plt.plot(df_sql.index, df_sql['close'], label='Close Price', color='gray')\n",
    "# plt.gca().set_facecolor('black')  # Set the background color to black\n",
    "# # Highlight up days in green\n",
    "# plt.scatter(df_sql['date'][buy_signal], df_sql['close'][buy_signal], color='green', label='Buy')"
   ]
  },
  {
   "cell_type": "markdown",
   "metadata": {},
   "source": [
    "The reason I use the 5 day moving average because it covers the whole weekend. It allows me to day trade with stocks, when to buy and sell stocks. <br>\n",
    "The reason I use the 7 day moving average because it allows you to gain insights into future predictions on stock performance. <br>\n",
    "Bullish day is tuesday with the 5 day moving average with wednesday, thursday, and friday following suit <br>\n",
    "Bearish day is monday within 5 day moving average. \n"
   ]
  },
  {
   "cell_type": "markdown",
   "metadata": {},
   "source": [
    "git checkout staging => switch between branches.<BR>\n",
    "git fetch origin => update your local repository with the latest changes from the remote branch<BR>\n",
    "git pull origin staging => Merge the remote staging branch into your local staging branch<BR>\n",
    "git add . => add all changes in the current directory<BR>\n",
    "git push origin staging"
   ]
  }
 ],
 "metadata": {
  "kernelspec": {
   "display_name": "Python 3",
   "language": "python",
   "name": "python3"
  },
  "language_info": {
   "codemirror_mode": {
    "name": "ipython",
    "version": 3
   },
   "file_extension": ".py",
   "mimetype": "text/x-python",
   "name": "python",
   "nbconvert_exporter": "python",
   "pygments_lexer": "ipython3",
   "version": "3.11.9"
  }
 },
 "nbformat": 4,
 "nbformat_minor": 2
}
