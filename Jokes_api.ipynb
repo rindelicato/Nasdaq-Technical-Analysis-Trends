{
 "cells": [
  {
   "cell_type": "code",
   "execution_count": 27,
   "metadata": {},
   "outputs": [],
   "source": [
    "import requests\n",
    "import pandas as pd"
   ]
  },
  {
   "cell_type": "code",
   "execution_count": 28,
   "metadata": {},
   "outputs": [],
   "source": [
    "url = 'https://official-joke-api.appspot.com/random_ten'\n",
    "response = requests.get(url)\n",
    "ten_joke = response.json()"
   ]
  },
  {
   "cell_type": "code",
   "execution_count": 29,
   "metadata": {},
   "outputs": [
    {
     "data": {
      "text/plain": [
       "'What do you call corn that joins the army?'"
      ]
     },
     "execution_count": 29,
     "metadata": {},
     "output_type": "execute_result"
    }
   ],
   "source": [
    "response.json()[4]['setup']"
   ]
  },
  {
   "cell_type": "code",
   "execution_count": 31,
   "metadata": {},
   "outputs": [
    {
     "name": "stdout",
     "output_type": "stream",
     "text": [
      "Why did the programmer bring a broom to work?\n",
      "To clean up all the bugs.\n",
      "\n",
      "Did you hear that David lost his ID in prague?\n",
      "Now we just have to call him Dav.\n",
      "\n",
      "Why did the chicken cross the playground?\n",
      "To get to the other slide.\n",
      "\n",
      "What do you call a nervous javelin thrower?\n",
      "Shakespeare.\n",
      "\n",
      "What do you call corn that joins the army?\n",
      "Kernel.\n",
      "\n",
      "What do you give to a lemon in need?\n",
      "Lemonaid.\n",
      "\n",
      "How do hens stay fit?\n",
      "They always egg-cercise!\n",
      "\n",
      "Why did the octopus beat the shark in a fight?\n",
      "Because it was well armed.\n",
      "\n",
      "Due to complaints, Hawaii passed a law where you're not allowed to laugh above a certain decibel.\n",
      "You can only use a low ha.\n",
      "\n",
      "Why did the programmer's wife leave him?\n",
      "He didn't know how to commit.\n",
      "\n"
     ]
    }
   ],
   "source": [
    "for jokes in ten_joke:\n",
    "    print(jokes['setup'])\n",
    "    print(jokes['punchline'])\n",
    "    print()\n"
   ]
  },
  {
   "cell_type": "code",
   "execution_count": 36,
   "metadata": {},
   "outputs": [],
   "source": [
    "get_jokes = pd.DataFrame(ten_joke)"
   ]
  },
  {
   "cell_type": "code",
   "execution_count": 37,
   "metadata": {},
   "outputs": [
    {
     "data": {
      "text/html": [
       "<div>\n",
       "<style scoped>\n",
       "    .dataframe tbody tr th:only-of-type {\n",
       "        vertical-align: middle;\n",
       "    }\n",
       "\n",
       "    .dataframe tbody tr th {\n",
       "        vertical-align: top;\n",
       "    }\n",
       "\n",
       "    .dataframe thead th {\n",
       "        text-align: right;\n",
       "    }\n",
       "</style>\n",
       "<table border=\"1\" class=\"dataframe\">\n",
       "  <thead>\n",
       "    <tr style=\"text-align: right;\">\n",
       "      <th></th>\n",
       "      <th>type</th>\n",
       "      <th>setup</th>\n",
       "      <th>punchline</th>\n",
       "      <th>id</th>\n",
       "    </tr>\n",
       "  </thead>\n",
       "  <tbody>\n",
       "    <tr>\n",
       "      <th>0</th>\n",
       "      <td>programming</td>\n",
       "      <td>Why did the programmer bring a broom to work?</td>\n",
       "      <td>To clean up all the bugs.</td>\n",
       "      <td>446</td>\n",
       "    </tr>\n",
       "    <tr>\n",
       "      <th>1</th>\n",
       "      <td>general</td>\n",
       "      <td>Did you hear that David lost his ID in prague?</td>\n",
       "      <td>Now we just have to call him Dav.</td>\n",
       "      <td>96</td>\n",
       "    </tr>\n",
       "    <tr>\n",
       "      <th>2</th>\n",
       "      <td>general</td>\n",
       "      <td>Why did the chicken cross the playground?</td>\n",
       "      <td>To get to the other slide.</td>\n",
       "      <td>428</td>\n",
       "    </tr>\n",
       "    <tr>\n",
       "      <th>3</th>\n",
       "      <td>general</td>\n",
       "      <td>What do you call a nervous javelin thrower?</td>\n",
       "      <td>Shakespeare.</td>\n",
       "      <td>211</td>\n",
       "    </tr>\n",
       "    <tr>\n",
       "      <th>4</th>\n",
       "      <td>general</td>\n",
       "      <td>What do you call corn that joins the army?</td>\n",
       "      <td>Kernel.</td>\n",
       "      <td>223</td>\n",
       "    </tr>\n",
       "    <tr>\n",
       "      <th>5</th>\n",
       "      <td>general</td>\n",
       "      <td>What do you give to a lemon in need?</td>\n",
       "      <td>Lemonaid.</td>\n",
       "      <td>74</td>\n",
       "    </tr>\n",
       "    <tr>\n",
       "      <th>6</th>\n",
       "      <td>general</td>\n",
       "      <td>How do hens stay fit?</td>\n",
       "      <td>They always egg-cercise!</td>\n",
       "      <td>118</td>\n",
       "    </tr>\n",
       "    <tr>\n",
       "      <th>7</th>\n",
       "      <td>general</td>\n",
       "      <td>Why did the octopus beat the shark in a fight?</td>\n",
       "      <td>Because it was well armed.</td>\n",
       "      <td>331</td>\n",
       "    </tr>\n",
       "    <tr>\n",
       "      <th>8</th>\n",
       "      <td>general</td>\n",
       "      <td>Due to complaints, Hawaii passed a law where y...</td>\n",
       "      <td>You can only use a low ha.</td>\n",
       "      <td>403</td>\n",
       "    </tr>\n",
       "    <tr>\n",
       "      <th>9</th>\n",
       "      <td>programming</td>\n",
       "      <td>Why did the programmer's wife leave him?</td>\n",
       "      <td>He didn't know how to commit.</td>\n",
       "      <td>415</td>\n",
       "    </tr>\n",
       "  </tbody>\n",
       "</table>\n",
       "</div>"
      ],
      "text/plain": [
       "          type                                              setup  \\\n",
       "0  programming      Why did the programmer bring a broom to work?   \n",
       "1      general     Did you hear that David lost his ID in prague?   \n",
       "2      general          Why did the chicken cross the playground?   \n",
       "3      general        What do you call a nervous javelin thrower?   \n",
       "4      general         What do you call corn that joins the army?   \n",
       "5      general               What do you give to a lemon in need?   \n",
       "6      general                              How do hens stay fit?   \n",
       "7      general     Why did the octopus beat the shark in a fight?   \n",
       "8      general  Due to complaints, Hawaii passed a law where y...   \n",
       "9  programming           Why did the programmer's wife leave him?   \n",
       "\n",
       "                           punchline   id  \n",
       "0          To clean up all the bugs.  446  \n",
       "1  Now we just have to call him Dav.   96  \n",
       "2         To get to the other slide.  428  \n",
       "3                       Shakespeare.  211  \n",
       "4                            Kernel.  223  \n",
       "5                          Lemonaid.   74  \n",
       "6           They always egg-cercise!  118  \n",
       "7         Because it was well armed.  331  \n",
       "8         You can only use a low ha.  403  \n",
       "9      He didn't know how to commit.  415  "
      ]
     },
     "execution_count": 37,
     "metadata": {},
     "output_type": "execute_result"
    }
   ],
   "source": [
    "get_jokes"
   ]
  },
  {
   "cell_type": "code",
   "execution_count": null,
   "metadata": {},
   "outputs": [],
   "source": []
  }
 ],
 "metadata": {
  "kernelspec": {
   "display_name": "Python 3",
   "language": "python",
   "name": "python3"
  },
  "language_info": {
   "codemirror_mode": {
    "name": "ipython",
    "version": 3
   },
   "file_extension": ".py",
   "mimetype": "text/x-python",
   "name": "python",
   "nbconvert_exporter": "python",
   "pygments_lexer": "ipython3",
   "version": "3.11.9"
  }
 },
 "nbformat": 4,
 "nbformat_minor": 2
}
